{
  "nbformat": 4,
  "nbformat_minor": 0,
  "metadata": {
    "colab": {
      "name": "7 постериорное, дз.ipynb",
      "provenance": [],
      "collapsed_sections": [],
      "authorship_tag": "ABX9TyMe5q0X6S8Kusv58UYCZXSs",
      "include_colab_link": true
    },
    "kernelspec": {
      "name": "python3",
      "display_name": "Python 3"
    }
  },
  "cells": [
    {
      "cell_type": "markdown",
      "metadata": {
        "id": "view-in-github",
        "colab_type": "text"
      },
      "source": [
        "<a href=\"https://colab.research.google.com/github/Rocknroll-nerd/statistic/blob/main/posterior_distributions.ipynb\" target=\"_parent\"><img src=\"https://colab.research.google.com/assets/colab-badge.svg\" alt=\"Open In Colab\"/></a>"
      ]
    },
    {
      "cell_type": "code",
      "metadata": {
        "id": "a-I3CilHvrhL"
      },
      "source": [
        "import numpy as np\n",
        "import scipy.stats as stats\n",
        "import seaborn as sns\n",
        "import matplotlib.pyplot as plt\n",
        "sns.set_style('whitegrid')\n",
        "%matplotlib inline"
      ],
      "execution_count": null,
      "outputs": []
    },
    {
      "cell_type": "code",
      "metadata": {
        "id": "TpsivGBdvssh",
        "colab": {
          "base_uri": "https://localhost:8080/",
          "height": 747
        },
        "outputId": "cd026b89-1a6e-4883-d498-5c3b0ee2066e"
      },
      "source": [
        "!pip install arviz\n",
        "!pip install --upgrade pymc3"
      ],
      "execution_count": null,
      "outputs": [
        {
          "output_type": "stream",
          "text": [
            "Requirement already satisfied: arviz in /usr/local/lib/python3.6/dist-packages (0.8.3)\n",
            "Requirement already satisfied: xarray>=0.11 in /usr/local/lib/python3.6/dist-packages (from arviz) (0.15.1)\n",
            "Requirement already satisfied: netcdf4 in /usr/local/lib/python3.6/dist-packages (from arviz) (1.5.3)\n",
            "Requirement already satisfied: matplotlib>=3.0 in /usr/local/lib/python3.6/dist-packages (from arviz) (3.2.2)\n",
            "Requirement already satisfied: packaging in /usr/local/lib/python3.6/dist-packages (from arviz) (20.4)\n",
            "Requirement already satisfied: numpy>=1.12 in /usr/local/lib/python3.6/dist-packages (from arviz) (1.18.5)\n",
            "Requirement already satisfied: scipy>=0.19 in /usr/local/lib/python3.6/dist-packages (from arviz) (1.4.1)\n",
            "Requirement already satisfied: pandas>=0.23 in /usr/local/lib/python3.6/dist-packages (from arviz) (1.0.5)\n",
            "Requirement already satisfied: setuptools>=41.2 in /usr/local/lib/python3.6/dist-packages (from xarray>=0.11->arviz) (47.3.1)\n",
            "Requirement already satisfied: cftime in /usr/local/lib/python3.6/dist-packages (from netcdf4->arviz) (1.1.3)\n",
            "Requirement already satisfied: pyparsing!=2.0.4,!=2.1.2,!=2.1.6,>=2.0.1 in /usr/local/lib/python3.6/dist-packages (from matplotlib>=3.0->arviz) (2.4.7)\n",
            "Requirement already satisfied: cycler>=0.10 in /usr/local/lib/python3.6/dist-packages (from matplotlib>=3.0->arviz) (0.10.0)\n",
            "Requirement already satisfied: kiwisolver>=1.0.1 in /usr/local/lib/python3.6/dist-packages (from matplotlib>=3.0->arviz) (1.2.0)\n",
            "Requirement already satisfied: python-dateutil>=2.1 in /usr/local/lib/python3.6/dist-packages (from matplotlib>=3.0->arviz) (2.8.1)\n",
            "Requirement already satisfied: six in /usr/local/lib/python3.6/dist-packages (from packaging->arviz) (1.12.0)\n",
            "Requirement already satisfied: pytz>=2017.2 in /usr/local/lib/python3.6/dist-packages (from pandas>=0.23->arviz) (2018.9)\n",
            "Requirement already up-to-date: pymc3 in /usr/local/lib/python3.6/dist-packages (3.9.1)\n",
            "Requirement already satisfied, skipping upgrade: typing-extensions>=3.7.4 in /usr/local/lib/python3.6/dist-packages (from pymc3) (3.7.4.2)\n",
            "Requirement already satisfied, skipping upgrade: theano>=1.0.4 in /usr/local/lib/python3.6/dist-packages (from pymc3) (1.0.4)\n",
            "Requirement already satisfied, skipping upgrade: h5py>=2.7.0 in /usr/local/lib/python3.6/dist-packages (from pymc3) (2.10.0)\n",
            "Requirement already satisfied, skipping upgrade: patsy>=0.5.1 in /usr/local/lib/python3.6/dist-packages (from pymc3) (0.5.1)\n",
            "Requirement already satisfied, skipping upgrade: numpy>=1.13.0 in /usr/local/lib/python3.6/dist-packages (from pymc3) (1.18.5)\n",
            "Requirement already satisfied, skipping upgrade: contextvars; python_version < \"3.7\" in /usr/local/lib/python3.6/dist-packages (from pymc3) (2.4)\n",
            "Requirement already satisfied, skipping upgrade: pandas>=0.18.0 in /usr/local/lib/python3.6/dist-packages (from pymc3) (1.0.5)\n",
            "Requirement already satisfied, skipping upgrade: fastprogress>=0.2.0 in /usr/local/lib/python3.6/dist-packages (from pymc3) (0.2.3)\n",
            "Requirement already satisfied, skipping upgrade: arviz>=0.8.3 in /usr/local/lib/python3.6/dist-packages (from pymc3) (0.8.3)\n",
            "Requirement already satisfied, skipping upgrade: scipy>=0.18.1 in /usr/local/lib/python3.6/dist-packages (from pymc3) (1.4.1)\n",
            "Requirement already satisfied, skipping upgrade: six>=1.9.0 in /usr/local/lib/python3.6/dist-packages (from theano>=1.0.4->pymc3) (1.12.0)\n",
            "Requirement already satisfied, skipping upgrade: immutables>=0.9 in /usr/local/lib/python3.6/dist-packages (from contextvars; python_version < \"3.7\"->pymc3) (0.14)\n",
            "Requirement already satisfied, skipping upgrade: pytz>=2017.2 in /usr/local/lib/python3.6/dist-packages (from pandas>=0.18.0->pymc3) (2018.9)\n",
            "Requirement already satisfied, skipping upgrade: python-dateutil>=2.6.1 in /usr/local/lib/python3.6/dist-packages (from pandas>=0.18.0->pymc3) (2.8.1)\n",
            "Requirement already satisfied, skipping upgrade: xarray>=0.11 in /usr/local/lib/python3.6/dist-packages (from arviz>=0.8.3->pymc3) (0.15.1)\n",
            "Requirement already satisfied, skipping upgrade: packaging in /usr/local/lib/python3.6/dist-packages (from arviz>=0.8.3->pymc3) (20.4)\n",
            "Requirement already satisfied, skipping upgrade: netcdf4 in /usr/local/lib/python3.6/dist-packages (from arviz>=0.8.3->pymc3) (1.5.3)\n",
            "Requirement already satisfied, skipping upgrade: matplotlib>=3.0 in /usr/local/lib/python3.6/dist-packages (from arviz>=0.8.3->pymc3) (3.2.2)\n",
            "Requirement already satisfied, skipping upgrade: setuptools>=41.2 in /usr/local/lib/python3.6/dist-packages (from xarray>=0.11->arviz>=0.8.3->pymc3) (47.3.1)\n",
            "Requirement already satisfied, skipping upgrade: pyparsing>=2.0.2 in /usr/local/lib/python3.6/dist-packages (from packaging->arviz>=0.8.3->pymc3) (2.4.7)\n",
            "Requirement already satisfied, skipping upgrade: cftime in /usr/local/lib/python3.6/dist-packages (from netcdf4->arviz>=0.8.3->pymc3) (1.1.3)\n",
            "Requirement already satisfied, skipping upgrade: kiwisolver>=1.0.1 in /usr/local/lib/python3.6/dist-packages (from matplotlib>=3.0->arviz>=0.8.3->pymc3) (1.2.0)\n",
            "Requirement already satisfied, skipping upgrade: cycler>=0.10 in /usr/local/lib/python3.6/dist-packages (from matplotlib>=3.0->arviz>=0.8.3->pymc3) (0.10.0)\n"
          ],
          "name": "stdout"
        }
      ]
    },
    {
      "cell_type": "code",
      "metadata": {
        "id": "H1JBye7Qv1Pr",
        "colab": {
          "base_uri": "https://localhost:8080/",
          "height": 34
        },
        "outputId": "dec154a0-cf48-46dd-88eb-30b09e229d4f"
      },
      "source": [
        "import pymc3 as pm\n",
        "import arviz as az\n",
        "pm.__version__"
      ],
      "execution_count": null,
      "outputs": [
        {
          "output_type": "execute_result",
          "data": {
            "text/plain": [
              "'3.9.1'"
            ]
          },
          "metadata": {
            "tags": []
          },
          "execution_count": 69
        }
      ]
    },
    {
      "cell_type": "markdown",
      "metadata": {
        "id": "eim8eNRNvKGR"
      },
      "source": [
        "### Задание 1\n",
        "В рамках той же задачи про число успехов. Вы получили 8 успехов из 15. Постройте постериорное распределение с помощью сеточной аппроксимации. \n",
        "- Получите 10000 сэмплов из распределения\n",
        "-  Постройте эмпирическое постериорное распределение на основе сэмплирования. Сравните с сеточной аппроксимацией\n",
        "- Постройте прогностическую модель на основе постериорного распределения. Какая вероятность получить 8 из 15 успехов при использовании этой модели\n",
        "- Используя постериорное распределение получите вероятность выпадения 6 единиц из 9\n",
        "- Сделайте все то же самое, но в качестве априорного распределения используйте следующее: 0 до 0.5 и константа после 0.5   "
      ]
    },
    {
      "cell_type": "code",
      "metadata": {
        "id": "kIVtZCxuvAqv"
      },
      "source": [
        "def posterior_grid_approx(grid_points=100, success=6, tosses=9):\n",
        "    p_grid = np.linspace(0, 1, grid_points)\n",
        "    prior = np.repeat(1, grid_points)  \n",
        "    likelihood = stats.binom.pmf(success, tosses, p_grid)\n",
        "    unstd_posterior = likelihood * prior\n",
        "    posterior = unstd_posterior / unstd_posterior.sum()\n",
        "    return p_grid, posterior"
      ],
      "execution_count": null,
      "outputs": []
    },
    {
      "cell_type": "code",
      "metadata": {
        "id": "T1NVwXWmwL8c"
      },
      "source": [
        "#8 успехов из 15\n",
        "p_grid, posterior = posterior_grid_approx(grid_points=100, success=8, tosses=15)"
      ],
      "execution_count": null,
      "outputs": []
    },
    {
      "cell_type": "code",
      "metadata": {
        "id": "QiNmw5IKvm_H"
      },
      "source": [
        "#1000 сэмплов\n",
        "samples_1000 = np.random.choice(p_grid, p=posterior, size = 1000, replace=True)"
      ],
      "execution_count": null,
      "outputs": []
    },
    {
      "cell_type": "code",
      "metadata": {
        "id": "zCpoLascwPTt",
        "colab": {
          "base_uri": "https://localhost:8080/",
          "height": 282
        },
        "outputId": "6fcf6cbb-27bc-4897-c6fe-caa6b4178877"
      },
      "source": [
        "#постериорное распределение, сеточная аппроксимация \n",
        "plt.plot(p_grid, posterior)"
      ],
      "execution_count": null,
      "outputs": [
        {
          "output_type": "execute_result",
          "data": {
            "text/plain": [
              "[<matplotlib.lines.Line2D at 0x7f1b4ba3c828>]"
            ]
          },
          "metadata": {
            "tags": []
          },
          "execution_count": 9
        },
        {
          "output_type": "display_data",
          "data": {
            "image/png": "[encoded data removed]",
            "text/plain": [
              "<Figure size 432x288 with 1 Axes>"
            ]
          },
          "metadata": {
            "tags": [],
            "needs_background": "light"
          }
        }
      ]
    },
    {
      "cell_type": "code",
      "metadata": {
        "id": "MpUfmgRjwSMK",
        "colab": {
          "base_uri": "https://localhost:8080/",
          "height": 174
        },
        "outputId": "407fd19f-5a19-4162-b8bc-4aefdd009176"
      },
      "source": [
        "plt.figure(figsize=(20,2))\n",
        "plt.subplot(1,3,1); sns.kdeplot(samples_1000)\n",
        "plt.subplot(1,3,2); plt.plot(samples_1000)"
      ],
      "execution_count": null,
      "outputs": [
        {
          "output_type": "execute_result",
          "data": {
            "text/plain": [
              "[<matplotlib.lines.Line2D at 0x7f1b4ab78fd0>]"
            ]
          },
          "metadata": {
            "tags": []
          },
          "execution_count": 23
        },
        {
          "output_type": "display_data",
          "data": {
            "image/png": "[encoded data removed]",
            "text/plain": [
              "<Figure size 1440x144 with 2 Axes>"
            ]
          },
          "metadata": {
            "tags": [],
            "needs_background": "light"
          }
        }
      ]
    },
    {
      "cell_type": "markdown",
      "metadata": {
        "id": "C1U6PCfFMZ6j"
      },
      "source": [
        "Сэмплирование важно для оценки распределения, поскольку оно дает возможность оценивать ожидание функции, говорить о истинных средних и дисперсиях, здесь мы можем говорить о возможных значениях вероятности выпадения, в нашем случае, 8 случаев из 15"
      ]
    },
    {
      "cell_type": "code",
      "metadata": {
        "id": "wsFh9DePwVOF",
        "colab": {
          "base_uri": "https://localhost:8080/",
          "height": 281
        },
        "outputId": "bc9f909e-e705-4017-97e9-b8d83b548699"
      },
      "source": [
        "#прогностическая модель на основе постериорного распр-я\n",
        "prog_mod = stats.binom.rvs(n=15, p=samples_1000)\n",
        "plt.hist(prog_mod, bins= 50)\n",
        "plt.title('number of successes');"
      ],
      "execution_count": null,
      "outputs": [
        {
          "output_type": "display_data",
          "data": {
            "image/png": "[encoded data removed]",
            "text/plain": [
              "<Figure size 432x288 with 1 Axes>"
            ]
          },
          "metadata": {
            "tags": [],
            "needs_background": "light"
          }
        }
      ]
    },
    {
      "cell_type": "code",
      "metadata": {
        "id": "uYXjs9Y3LSCP",
        "colab": {
          "base_uri": "https://localhost:8080/",
          "height": 34
        },
        "outputId": "83c9aa6e-53da-40ba-d5c2-eb328a5792e3"
      },
      "source": [
        "np.median(samples_1000)"
      ],
      "execution_count": null,
      "outputs": [
        {
          "output_type": "execute_result",
          "data": {
            "text/plain": [
              "0.5353535353535354"
            ]
          },
          "metadata": {
            "tags": []
          },
          "execution_count": 14
        }
      ]
    },
    {
      "cell_type": "code",
      "metadata": {
        "id": "9Zfg80XmKFZF",
        "colab": {
          "base_uri": "https://localhost:8080/",
          "height": 70
        },
        "outputId": "d01a1481-6425-4de3-d338-4da2393dddf2"
      },
      "source": [
        "print('вероятность получить 8 из 15 на основе постериорного с помощью семплирования', stats.mode(samples_1000)[0][0], '\\n')\n",
        "print('вероятность 8 из 15 сеточной аппроксимацией', p_grid[posterior == max(posterior)][0])"
      ],
      "execution_count": null,
      "outputs": [
        {
          "output_type": "stream",
          "text": [
            "вероятность получить 8 из 15 на основе постериорного с помощью семплирования 0.5858585858585859 \n",
            "\n",
            "вероятность 8 из 15 сеточной аппроксимацией 0.010101010101010102\n"
          ],
          "name": "stdout"
        }
      ]
    },
    {
      "cell_type": "code",
      "metadata": {
        "id": "GfLyCkMjwXnM",
        "colab": {
          "base_uri": "https://localhost:8080/",
          "height": 264
        },
        "outputId": "5f15e00f-4351-4735-d3d7-55bca4c39fd2"
      },
      "source": [
        "#6 из 9\n",
        "p_grid_69, post_69 = posterior_grid_approx()\n",
        "last_samples = np.random.choice(p_grid_69, p=post_69, size=1000, replace=True)\n",
        "from_last_samples = stats.binom.rvs(n=9, p=last_samples)\n",
        "plt.hist(from_last_samples, bins= 50);"
      ],
      "execution_count": null,
      "outputs": [
        {
          "output_type": "display_data",
          "data": {
            "image/png": "[encoded data removed]",
            "text/plain": [
              "<Figure size 432x288 with 1 Axes>"
            ]
          },
          "metadata": {
            "tags": [],
            "needs_background": "light"
          }
        }
      ]
    },
    {
      "cell_type": "code",
      "metadata": {
        "id": "Vw8Q1WiE7Cu1"
      },
      "source": [
        "#осталось построить распределение от 0 до 0.5 с константой после 0.5\n",
        "def posterior_grid_const(grid_points=100, success=6, tosses=9):\n",
        "    p_grid = np.linspace(0, 1, grid_points)\n",
        "    prior = [0 if i<0.5 else 0.5 for i in p_grid]  \n",
        "    likelihood = stats.binom.pmf(success, tosses, p_grid)\n",
        "    unstd_posterior = likelihood * prior\n",
        "    posterior = unstd_posterior / unstd_posterior.sum()\n",
        "    return p_grid, posterior"
      ],
      "execution_count": null,
      "outputs": []
    },
    {
      "cell_type": "code",
      "metadata": {
        "id": "TCS3Yq9c86i0"
      },
      "source": [
        "p_g, post= posterior_grid_const()"
      ],
      "execution_count": null,
      "outputs": []
    },
    {
      "cell_type": "code",
      "metadata": {
        "id": "ABOpbaRi9BKL"
      },
      "source": [
        "samples = np.random.choice(p_g, p=post, size = 1000, replace=True)"
      ],
      "execution_count": null,
      "outputs": []
    },
    {
      "cell_type": "code",
      "metadata": {
        "id": "QKHp0QL29O3V",
        "colab": {
          "base_uri": "https://localhost:8080/",
          "height": 264
        },
        "outputId": "f5b80e2b-5961-4e78-cbae-d828c86f13e0"
      },
      "source": [
        "plt.plot(p_g,post);"
      ],
      "execution_count": null,
      "outputs": [
        {
          "output_type": "display_data",
          "data": {
            "image/png": "[encoded data removed]",
            "text/plain": [
              "<Figure size 432x288 with 1 Axes>"
            ]
          },
          "metadata": {
            "tags": [],
            "needs_background": "light"
          }
        }
      ]
    },
    {
      "cell_type": "code",
      "metadata": {
        "id": "4d4EE2n09LXF",
        "colab": {
          "base_uri": "https://localhost:8080/",
          "height": 177
        },
        "outputId": "42b9dc8b-646d-44bd-bcc3-75ff514e4fd5"
      },
      "source": [
        "plt.figure(figsize=(20,2))\n",
        "plt.subplot(1,3,1); sns.kdeplot(samples)\n",
        "plt.subplot(1,3,2); plt.plot(samples);"
      ],
      "execution_count": null,
      "outputs": [
        {
          "output_type": "execute_result",
          "data": {
            "text/plain": [
              "[<matplotlib.lines.Line2D at 0x7f1b4a2dae48>]"
            ]
          },
          "metadata": {
            "tags": []
          },
          "execution_count": 186
        },
        {
          "output_type": "display_data",
          "data": {
            "image/png": "[encoded data removed]",
            "text/plain": [
              "<Figure size 1440x144 with 2 Axes>"
            ]
          },
          "metadata": {
            "tags": [],
            "needs_background": "light"
          }
        }
      ]
    },
    {
      "cell_type": "markdown",
      "metadata": {
        "id": "tWBNCYKqwbJn"
      },
      "source": [
        "## Задание 2\n",
        "Ниже приведены данные по 100 семьям с двумя детьми. В первом массиве указан пол первого ребенка, во втором пол второго ребенка. \n",
        "\n",
        "В рамках обычного статистического моделирования:\n",
        " - сделайте обычный тест на равенство шансов при рождении мальчиков и девочек\n",
        " - Проверьте гипотезу о равенстве полов в этих двух выборках\n",
        " - Проверьте гипотезу о независимость пола второго и первого ребенка  "
      ]
    },
    {
      "cell_type": "code",
      "metadata": {
        "id": "akKuJiAkwcjv"
      },
      "source": [
        "birth_1 = np.array([1,0,0,0,1,1,0,1,0,1,0,0,1,1,0,1,1,0,0,0,1,0,0,0,1,0, 0,0,0,1,1,1,0,1,0,1,1,1,0,1,0,1,1,0,1,0,0,1,1,0,1,0,0,0,0,0,0,0, 1,1,0,1,0,0,1,0,0,0,1,0,0,1,1,1,1,0,1,0,1,1,1,1,1,0,0,1,0,1,1,0,1,0,1,1,1,0,1,1,1,1])\n",
        "birth_2 = np.array([0,1,0,1,0,1,1,1,0,0,1,1,1,1,1,0,0,1,1,1,0,0,1,1,1,0,\n",
        "1,1,1,0,1,1,1,0,1,0,0,1,1,1,1,0,0,1,0,1,1,1,1,1,1,1,1,1,1,1,1,1,\n",
        "1,1,1,0,1,1,0,1,1,0,1,1,1,0,0,0,0,0,0,1,0,0,0,1,1,0,0,1,0,0,1,1,\n",
        "0,0,0,1,1,1,0,0,0,0])"
      ],
      "execution_count": null,
      "outputs": []
    },
    {
      "cell_type": "code",
      "metadata": {
        "id": "7p3skdlRaLck"
      },
      "source": [
        "x= np.concatenate((birth_1, birth_2))"
      ],
      "execution_count": null,
      "outputs": []
    },
    {
      "cell_type": "code",
      "metadata": {
        "id": "_SbFhOo9VWvn"
      },
      "source": [
        "def draw_bs_reps(data, func, size=1):\n",
        "\n",
        "    bs_replicates = np.empty(size)\n",
        "\n",
        "    for i in range(size):\n",
        "        bs_replicates[i] = bootstrap_replicate_1d(data, func)\n",
        "\n",
        "    return bs_replicates"
      ],
      "execution_count": null,
      "outputs": []
    },
    {
      "cell_type": "code",
      "metadata": {
        "id": "2bK9IftGaBu-"
      },
      "source": [
        "birth_bs=draw_bs_reps(data=x, func=np.mean, size=10000)"
      ],
      "execution_count": null,
      "outputs": []
    },
    {
      "cell_type": "code",
      "metadata": {
        "id": "DaOUc9z6tlFZ",
        "colab": {
          "base_uri": "https://localhost:8080/",
          "height": 353
        },
        "outputId": "40a78306-6b8a-41d3-ac74-b30babba1d6a"
      },
      "source": [
        "plt.hist(birth_bs)"
      ],
      "execution_count": null,
      "outputs": [
        {
          "output_type": "execute_result",
          "data": {
            "text/plain": [
              "(array([   4.,   42.,  353., 1030., 2628., 3246., 1805.,  771.,  111.,\n",
              "          10.]),\n",
              " array([0.405 , 0.4335, 0.462 , 0.4905, 0.519 , 0.5475, 0.576 , 0.6045,\n",
              "        0.633 , 0.6615, 0.69  ]),\n",
              " <a list of 10 Patch objects>)"
            ]
          },
          "metadata": {
            "tags": []
          },
          "execution_count": 76
        },
        {
          "output_type": "display_data",
          "data": {
            "image/png": "[encoded data removed]",
            "text/plain": [
              "<Figure size 432x288 with 1 Axes>"
            ]
          },
          "metadata": {
            "tags": [],
            "needs_background": "light"
          }
        }
      ]
    },
    {
      "cell_type": "code",
      "metadata": {
        "id": "nAiTjS2Zdxj-",
        "colab": {
          "base_uri": "https://localhost:8080/",
          "height": 34
        },
        "outputId": "2ddf402e-59c0-40c5-83a2-ecaae6d1f5ea"
      },
      "source": [
        "np.percentile(birth_bs, [2.5, 97.5])"
      ],
      "execution_count": null,
      "outputs": [
        {
          "output_type": "execute_result",
          "data": {
            "text/plain": [
              "array([0.485, 0.625])"
            ]
          },
          "metadata": {
            "tags": []
          },
          "execution_count": 74
        }
      ]
    },
    {
      "cell_type": "code",
      "metadata": {
        "id": "VouPfUbueIY0",
        "colab": {
          "base_uri": "https://localhost:8080/",
          "height": 34
        },
        "outputId": "16c51fde-bc15-494e-89e8-9338a11df277"
      },
      "source": [
        "p = np.sum(birth_bs == 0.5) / len(birth_bs)\n",
        "p*2"
      ],
      "execution_count": null,
      "outputs": [
        {
          "output_type": "execute_result",
          "data": {
            "text/plain": [
              "0.03"
            ]
          },
          "metadata": {
            "tags": []
          },
          "execution_count": 120
        }
      ]
    },
    {
      "cell_type": "markdown",
      "metadata": {
        "id": "LlkbIf7ueocG"
      },
      "source": [
        "Итак, при шансах получить выборку со средним 0.5 мальчиков и девочек, p-value  <0.05, при этом 95% значений лежит в достаточно узком интервале 0.485-0.625, скорее всего шансы действительно равны"
      ]
    },
    {
      "cell_type": "markdown",
      "metadata": {
        "id": "ePcrnbSQVSCk"
      },
      "source": [
        "тест на равенство полов в двух выборках:"
      ]
    },
    {
      "cell_type": "code",
      "metadata": {
        "id": "nUsl5bD2u9uT"
      },
      "source": [
        "def permutation_sample(data1, data2):\n",
        "    data = np.concatenate((data1, data2))\n",
        "    permuted_data = np.random.permutation(data)\n",
        "    perm_sample_1 = permuted_data[:len(data1)]\n",
        "    perm_sample_2 = permuted_data[len(data1):]\n",
        "\n",
        "    return perm_sample_1, perm_sample_2"
      ],
      "execution_count": null,
      "outputs": []
    },
    {
      "cell_type": "code",
      "metadata": {
        "id": "t5KVdS66Oofx"
      },
      "source": [
        "def draw_perm_reps(func, data_1=birth_1, data_2=birth_2, size=10000):\n",
        "    perm_replicates = np.empty(size)\n",
        "    for i in range(size):\n",
        "        perm_sample_1, perm_sample_2 = permutation_sample(data_1,data_2)\n",
        "        perm_replicates[i] = func(perm_sample_1, perm_sample_2)\n",
        "\n",
        "    return perm_replicates"
      ],
      "execution_count": null,
      "outputs": []
    },
    {
      "cell_type": "code",
      "metadata": {
        "id": "2Nty1Hu6TDkC"
      },
      "source": [
        "def diff_of_means(data_1=birth_1, data_2=birth_2):\n",
        "    diff = np.mean(data_1) - np.mean(data_2)\n",
        "    return diff"
      ],
      "execution_count": null,
      "outputs": []
    },
    {
      "cell_type": "code",
      "metadata": {
        "id": "XVEc9uouThUD",
        "colab": {
          "base_uri": "https://localhost:8080/",
          "height": 34
        },
        "outputId": "1aa885e9-3ac4-4135-9a82-5b4361652b79"
      },
      "source": [
        "empirical_diff_means = diff_of_means()\n",
        "\n",
        "perm_replicates = draw_perm_reps(diff_of_means)\n",
        "\n",
        "p = np.sum(perm_replicates >= empirical_diff_means) / len(perm_replicates)\n",
        "\n",
        "print('p-value =', p)"
      ],
      "execution_count": null,
      "outputs": [
        {
          "output_type": "stream",
          "text": [
            "p-value = 0.9235\n"
          ],
          "name": "stdout"
        }
      ]
    },
    {
      "cell_type": "markdown",
      "metadata": {
        "id": "uD9Ui7WHXqBx"
      },
      "source": [
        "тест на независимость"
      ]
    },
    {
      "cell_type": "code",
      "metadata": {
        "id": "TdIX3EESwrwe"
      },
      "source": [
        "b_1, b_2= permutation_sample(birth_1, birth_2)"
      ],
      "execution_count": null,
      "outputs": []
    },
    {
      "cell_type": "code",
      "metadata": {
        "id": "i5DdIPGHXpua",
        "colab": {
          "base_uri": "https://localhost:8080/",
          "height": 34
        },
        "outputId": "6b49bb1e-f49e-4002-e059-a125d93e2be7"
      },
      "source": [
        "from scipy.stats import pearsonr\n",
        "data1, data2 = b_1, b_2\n",
        "corr, p = pearsonr(data1, data2)\n",
        "print(corr, p)"
      ],
      "execution_count": null,
      "outputs": [
        {
          "output_type": "stream",
          "text": [
            "-0.009949879346007107 0.9217335688292281\n"
          ],
          "name": "stdout"
        }
      ]
    },
    {
      "cell_type": "markdown",
      "metadata": {
        "id": "8vDVyoX8Y5bi"
      },
      "source": [
        "наблюдаем отрицательную корелляцию данных, выборки независимы"
      ]
    },
    {
      "cell_type": "markdown",
      "metadata": {
        "id": "mJlE1IoYwmhm"
      },
      "source": [
        "Посчитайте постериорное распределение для вероятности родиться мальчиком \n",
        "Сгенерируйте 10000 сэмплов и оцените HPD  интервал для 50%, 89% и 97%"
      ]
    },
    {
      "cell_type": "markdown",
      "metadata": {
        "id": "q3ncjqLZxaqE"
      },
      "source": [
        "допустим, мальчик – это 0"
      ]
    },
    {
      "cell_type": "code",
      "metadata": {
        "id": "LR16TYaA0Jv3"
      },
      "source": [
        "x= np.concatenate((birth_1, birth_2))"
      ],
      "execution_count": null,
      "outputs": []
    },
    {
      "cell_type": "code",
      "metadata": {
        "id": "-nDSjM7a4B4g",
        "colab": {
          "base_uri": "https://localhost:8080/",
          "height": 34
        },
        "outputId": "5c140a30-0c6c-43a6-b250-53a4e0572462"
      },
      "source": [
        "len(x)"
      ],
      "execution_count": null,
      "outputs": [
        {
          "output_type": "execute_result",
          "data": {
            "text/plain": [
              "200"
            ]
          },
          "metadata": {
            "tags": []
          },
          "execution_count": 156
        }
      ]
    },
    {
      "cell_type": "code",
      "metadata": {
        "id": "LFtfAkL_1U_8",
        "colab": {
          "base_uri": "https://localhost:8080/",
          "height": 34
        },
        "outputId": "47d54485-4850-47d1-d2fe-046d1e9d9bf6"
      },
      "source": [
        "success_boy= (x == 0).sum()\n",
        "success_boy"
      ],
      "execution_count": null,
      "outputs": [
        {
          "output_type": "execute_result",
          "data": {
            "text/plain": [
              "89"
            ]
          },
          "metadata": {
            "tags": []
          },
          "execution_count": 143
        }
      ]
    },
    {
      "cell_type": "code",
      "metadata": {
        "id": "r_P8Wi93Pmae"
      },
      "source": [
        "#заменить np.repeat(?)\n",
        "def p_g_approx_boy(grid_points=len(x), success=success_boy, tosses=len(x)):\n",
        "    p_grid = np.linspace(0, 1, grid_points)\n",
        "    prior =  np.repeat(1, grid_points)\n",
        "    likelihood = stats.binom.pmf(success, tosses, p_grid)\n",
        "    unstd_posterior = likelihood * prior\n",
        "    posterior = unstd_posterior / unstd_posterior.sum()\n",
        "    return p_grid, posterior"
      ],
      "execution_count": null,
      "outputs": []
    },
    {
      "cell_type": "code",
      "metadata": {
        "id": "CjhDBjMCyCIk"
      },
      "source": [
        "p_grid, posterior=p_g_approx_boy(grid_points=100, tosses=len(x))"
      ],
      "execution_count": null,
      "outputs": []
    },
    {
      "cell_type": "code",
      "metadata": {
        "id": "KPMJGFIvzI1H",
        "colab": {
          "base_uri": "https://localhost:8080/",
          "height": 285
        },
        "outputId": "798511b8-14fe-42bf-a088-1ee1aaaf94d1"
      },
      "source": [
        "plt.plot(posterior)"
      ],
      "execution_count": null,
      "outputs": [
        {
          "output_type": "execute_result",
          "data": {
            "text/plain": [
              "[<matplotlib.lines.Line2D at 0x7f1b4a51d9e8>]"
            ]
          },
          "metadata": {
            "tags": []
          },
          "execution_count": 167
        },
        {
          "output_type": "display_data",
          "data": {
            "image/png": "[encoded data removed]",
            "text/plain": [
              "<Figure size 432x288 with 1 Axes>"
            ]
          },
          "metadata": {
            "tags": [],
            "needs_background": "light"
          }
        }
      ]
    },
    {
      "cell_type": "code",
      "metadata": {
        "id": "9pA5p59yQFoI"
      },
      "source": [
        "samples_boys = np.random.choice(p_grid, p=posterior, size = 1000, replace=True)"
      ],
      "execution_count": null,
      "outputs": []
    },
    {
      "cell_type": "code",
      "metadata": {
        "id": "KbkHho094a7k",
        "colab": {
          "base_uri": "https://localhost:8080/",
          "height": 156
        },
        "outputId": "b3621578-ffb8-4b50-fc36-16a36a613caa"
      },
      "source": [
        "plt.figure(figsize=(20,2))\n",
        "plt.subplot(1,3,1); sns.kdeplot(samples_boys)\n",
        "plt.subplot(1,3,2); plt.plot(samples_boys);"
      ],
      "execution_count": null,
      "outputs": [
        {
          "output_type": "display_data",
          "data": {
            "image/png": "[encoded data removed]",
            "text/plain": [
              "<Figure size 1440x144 with 2 Axes>"
            ]
          },
          "metadata": {
            "tags": [],
            "needs_background": "light"
          }
        }
      ]
    },
    {
      "cell_type": "code",
      "metadata": {
        "id": "jQvjCu7ywgQp",
        "colab": {
          "base_uri": "https://localhost:8080/",
          "height": 34
        },
        "outputId": "8e128b3d-0ac7-4a9a-de31-e72400e0c2db"
      },
      "source": [
        "az.hdi(samples_boys, credible_interval=0.5)"
      ],
      "execution_count": null,
      "outputs": [
        {
          "output_type": "execute_result",
          "data": {
            "text/plain": [
              "array([0.37373737, 0.50505051])"
            ]
          },
          "metadata": {
            "tags": []
          },
          "execution_count": 173
        }
      ]
    },
    {
      "cell_type": "code",
      "metadata": {
        "id": "3rpKQpNE5PeI",
        "colab": {
          "base_uri": "https://localhost:8080/",
          "height": 34
        },
        "outputId": "2920e1ef-6c34-4488-fd2f-fb61613aa21e"
      },
      "source": [
        "az.hdi(samples_boys, credible_interval=0.11)"
      ],
      "execution_count": null,
      "outputs": [
        {
          "output_type": "execute_result",
          "data": {
            "text/plain": [
              "array([0.37373737, 0.50505051])"
            ]
          },
          "metadata": {
            "tags": []
          },
          "execution_count": 210
        }
      ]
    },
    {
      "cell_type": "code",
      "metadata": {
        "id": "yffsY7KC5SKf",
        "colab": {
          "base_uri": "https://localhost:8080/",
          "height": 34
        },
        "outputId": "e04bc702-64d8-45b0-e21e-431573395db1"
      },
      "source": [
        "az.hdi(samples_boys, credible_interval=0.03)"
      ],
      "execution_count": null,
      "outputs": [
        {
          "output_type": "execute_result",
          "data": {
            "text/plain": [
              "array([0.37373737, 0.50505051])"
            ]
          },
          "metadata": {
            "tags": []
          },
          "execution_count": 211
        }
      ]
    },
    {
      "cell_type": "markdown",
      "metadata": {
        "id": "4Bvea6Yr721E"
      },
      "source": [
        "интересный одинаковый интервал, получается все значения вероятностей лежат в интервале 0.5(?)"
      ]
    },
    {
      "cell_type": "markdown",
      "metadata": {
        "id": "g4anebLRwgq8"
      },
      "source": [
        "Постройте предиктивное распределние числа рождений мальчиков из 200 человек. Какова вероятность получить 111 из 200?"
      ]
    },
    {
      "cell_type": "code",
      "metadata": {
        "id": "B63aMz0NEZTJ"
      },
      "source": [
        "stat = stats.binom.rvs(n = 200, p = samples_boys)"
      ],
      "execution_count": null,
      "outputs": []
    },
    {
      "cell_type": "code",
      "metadata": {
        "id": "yky5hDkUE84g",
        "colab": {
          "base_uri": "https://localhost:8080/",
          "height": 264
        },
        "outputId": "02adb8ea-4f9f-4999-8b60-bb492753b72f"
      },
      "source": [
        "plt.hist(stat, bins=50);"
      ],
      "execution_count": null,
      "outputs": [
        {
          "output_type": "display_data",
          "data": {
            "image/png": "[encoded data removed]",
            "text/plain": [
              "<Figure size 432x288 with 1 Axes>"
            ]
          },
          "metadata": {
            "tags": [],
            "needs_background": "light"
          }
        }
      ]
    },
    {
      "cell_type": "code",
      "metadata": {
        "id": "Xu0KcCbM_RNw",
        "colab": {
          "base_uri": "https://localhost:8080/",
          "height": 34
        },
        "outputId": "b05b60f4-42ba-4b3d-be8e-9e38f23ef07b"
      },
      "source": [
        "print(f\"Вероятность получить 111 мальчиков из 200 {np.mean(stat==111)}\")"
      ],
      "execution_count": null,
      "outputs": [
        {
          "output_type": "stream",
          "text": [
            "Probability to have 111 boys 0.001\n"
          ],
          "name": "stdout"
        }
      ]
    }
  ]
}