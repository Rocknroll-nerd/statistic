{
  "nbformat": 4,
  "nbformat_minor": 0,
  "metadata": {
    "colab": {
      "name": "Задания из главы 4, 8 дз.ipynb",
      "provenance": [],
      "collapsed_sections": [],
      "include_colab_link": true
    },
    "kernelspec": {
      "name": "python3",
      "display_name": "Python 3"
    }
  },
  "cells": [
    {
      "cell_type": "markdown",
      "metadata": {
        "id": "view-in-github",
        "colab_type": "text"
      },
      "source": [
        "<a href=\"https://colab.research.google.com/github/Rocknroll-nerd/statistic/blob/main/%D0%97%D0%B0%D0%B4%D0%B0%D0%BD%D0%B8%D1%8F_%D0%B8%D0%B7_%D0%B3%D0%BB%D0%B0%D0%B2%D1%8B_4%2C_8_%D0%B4%D0%B7.ipynb\" target=\"_parent\"><img src=\"https://colab.research.google.com/assets/colab-badge.svg\" alt=\"Open In Colab\"/></a>"
      ]
    },
    {
      "cell_type": "code",
      "metadata": {
        "id": "dLd8zP1G_rzT"
      },
      "source": [
        "10!pip install arviz\n",
        "!pip install pymc3 --upgrade"
      ],
      "execution_count": null,
      "outputs": []
    },
    {
      "cell_type": "code",
      "metadata": {
        "id": "Qe6ppdRP_psz"
      },
      "source": [
        "import numpy as np\n",
        "import pymc3 as pm\n",
        "import arviz as az\n",
        "import pandas as pd\n",
        "from scipy.stats import norm, uniform\n",
        "import matplotlib.pyplot as plt\n",
        "%matplotlib inline\n",
        "plt.style.use('ggplot')"
      ],
      "execution_count": null,
      "outputs": []
    },
    {
      "cell_type": "markdown",
      "metadata": {
        "id": "f-BFrlQ2rcMg"
      },
      "source": [
        "#4E1\n",
        "какая из этих моделей - likelihood\n",
        "\n",
        "**$𝑦_𝑖∼Normal(𝜇,𝜎)$ -- likelihood**\n",
        "\n",
        "$𝜇∼Normal(0,10)$ -- prior(mu)\n",
        "\n",
        "$𝜎∼Uniform(0,10)$ -- prior(sigma)"
      ]
    },
    {
      "cell_type": "markdown",
      "metadata": {
        "id": "VIyqcmEhvIYQ"
      },
      "source": [
        "#4E2\n",
        "\n",
        "Cколько параметров включает такое постериорное распределение\n",
        "\n",
        "ответ: получается, у нас здесь 2 параметра $\\mu$ и $\\sigma$"
      ]
    },
    {
      "cell_type": "markdown",
      "metadata": {
        "id": "tpdZkyowvrC0"
      },
      "source": [
        "#4E3\n",
        "\n",
        "напишите формулу теоремы Байеса, использующую распределение выше\n",
        "\n",
        "**$P(\\mu,\\sigma| y)= \\frac{П_i Normal(y_i|\\mu,\\sigma)Normal(mu|0,10)Uniform(\\sigma|0,10)}{\\int \\int П_i Normal(h_i|\\mu,\\sigma)Normal(mu|0,10)Uniform(\\sigma|0,10)d\\mu d\\sigma}$**\n",
        "\n",
        "\n",
        "\n"
      ]
    },
    {
      "cell_type": "markdown",
      "metadata": {
        "id": "o-JiA0Giz5mU"
      },
      "source": [
        "#4E4\n",
        "Для данной модели, какая из них является линейной\n",
        "\n",
        "$𝑦_𝑖∼𝑁𝑜𝑟𝑚𝑎𝑙(𝜇,𝜎)  $\n",
        "\n",
        "$\\mu_i = \\alpha + \\beta x_i $\n",
        "\n",
        "$\\alpha ∼𝑁𝑜𝑟𝑚𝑎𝑙(0,10)$\n",
        "\n",
        "$\\beta ∼ Normal(0,1)$\n",
        "\n",
        "$𝜎∼𝑈𝑛𝑖𝑓𝑜𝑟𝑚(0,10)  $"
      ]
    },
    {
      "cell_type": "markdown",
      "metadata": {
        "id": "ZRRxvdJP1SZ9"
      },
      "source": [
        "в данном случае линейная модель – это $𝜇𝑖=𝛼+𝛽𝑥_𝑖$"
      ]
    },
    {
      "cell_type": "markdown",
      "metadata": {
        "id": "Grx-kqqF1aZN"
      },
      "source": [
        "#4E5\n",
        "А сколько параметров в этом постериорном распределении?\n",
        "\n",
        "Получается, здесь 3 параметра – $\\alpha$, $\\beta$ и $\\sigma$"
      ]
    },
    {
      "cell_type": "code",
      "metadata": {
        "id": "AJhJQNJBUcaa",
        "colab": {
          "base_uri": "https://localhost:8080/",
          "height": 197
        },
        "outputId": "16b881af-65d8-45ce-e831-0679e6defaf7"
      },
      "source": [
        "df = pd.read_csv('https://raw.githubusercontent.com/iknyazeva/BayesData/master/Howell1.csv',sep=';', header=0)\n",
        "df.head()"
      ],
      "execution_count": null,
      "outputs": [
        {
          "output_type": "execute_result",
          "data": {
            "text/html": [
              "<div>\n",
              "<style scoped>\n",
              "    .dataframe tbody tr th:only-of-type {\n",
              "        vertical-align: middle;\n",
              "    }\n",
              "\n",
              "    .dataframe tbody tr th {\n",
              "        vertical-align: top;\n",
              "    }\n",
              "\n",
              "    .dataframe thead th {\n",
              "        text-align: right;\n",
              "    }\n",
              "</style>\n",
              "<table border=\"1\" class=\"dataframe\">\n",
              "  <thead>\n",
              "    <tr style=\"text-align: right;\">\n",
              "      <th></th>\n",
              "      <th>height</th>\n",
              "      <th>weight</th>\n",
              "      <th>age</th>\n",
              "      <th>male</th>\n",
              "    </tr>\n",
              "  </thead>\n",
              "  <tbody>\n",
              "    <tr>\n",
              "      <th>0</th>\n",
              "      <td>151.765</td>\n",
              "      <td>47.825606</td>\n",
              "      <td>63.0</td>\n",
              "      <td>1</td>\n",
              "    </tr>\n",
              "    <tr>\n",
              "      <th>1</th>\n",
              "      <td>139.700</td>\n",
              "      <td>36.485807</td>\n",
              "      <td>63.0</td>\n",
              "      <td>0</td>\n",
              "    </tr>\n",
              "    <tr>\n",
              "      <th>2</th>\n",
              "      <td>136.525</td>\n",
              "      <td>31.864838</td>\n",
              "      <td>65.0</td>\n",
              "      <td>0</td>\n",
              "    </tr>\n",
              "    <tr>\n",
              "      <th>3</th>\n",
              "      <td>156.845</td>\n",
              "      <td>53.041915</td>\n",
              "      <td>41.0</td>\n",
              "      <td>1</td>\n",
              "    </tr>\n",
              "    <tr>\n",
              "      <th>4</th>\n",
              "      <td>145.415</td>\n",
              "      <td>41.276872</td>\n",
              "      <td>51.0</td>\n",
              "      <td>0</td>\n",
              "    </tr>\n",
              "  </tbody>\n",
              "</table>\n",
              "</div>"
            ],
            "text/plain": [
              "    height     weight   age  male\n",
              "0  151.765  47.825606  63.0     1\n",
              "1  139.700  36.485807  63.0     0\n",
              "2  136.525  31.864838  65.0     0\n",
              "3  156.845  53.041915  41.0     1\n",
              "4  145.415  41.276872  51.0     0"
            ]
          },
          "metadata": {
            "tags": []
          },
          "execution_count": 5
        }
      ]
    },
    {
      "cell_type": "markdown",
      "metadata": {
        "id": "JFIyv2i81vIh"
      },
      "source": [
        "#4M1\n",
        "\n",
        "У нас есть вот такая вот модель, необходимо (тут я задумалась, как это перевести): simulate observed heights from the prior (not the posterior). \n",
        "\n",
        "$𝑦_𝑖∼Normal(𝜇,𝜎)$ \n",
        "\n",
        "$𝜇∼Normal(0,10)$\n",
        "\n",
        "\n",
        "$𝜎∼Uniform(0,10)$"
      ]
    },
    {
      "cell_type": "code",
      "metadata": {
        "id": "5iLn5BS6pVuL",
        "colab": {
          "base_uri": "https://localhost:8080/",
          "height": 282
        },
        "outputId": "59d050b4-fc23-4cdd-82b0-1d55f658e2b1"
      },
      "source": [
        "sample_mu= norm.rvs(loc=0, scale=10, size=10000)\n",
        "sample_sigma= uniform.rvs(loc=0, scale=10, size=10000)\n",
        "prior=norm.rvs(loc=sample_mu, scale=sample_sigma)\n",
        "plt.plot(prior)"
      ],
      "execution_count": null,
      "outputs": [
        {
          "output_type": "execute_result",
          "data": {
            "text/plain": [
              "[<matplotlib.lines.Line2D at 0x7fba48c53240>]"
            ]
          },
          "metadata": {
            "tags": []
          },
          "execution_count": 6
        },
        {
          "output_type": "display_data",
          "data": {
            "image/png": "[encoded data removed]",
            "text/plain": [
              "<Figure size 432x288 with 1 Axes>"
            ]
          },
          "metadata": {
            "tags": []
          }
        }
      ]
    },
    {
      "cell_type": "code",
      "metadata": {
        "id": "gpuvkvCOBEzT",
        "colab": {
          "base_uri": "https://localhost:8080/",
          "height": 337
        },
        "outputId": "07c3436e-7300-4bad-9a95-c5a913d787e2"
      },
      "source": [
        "import seaborn as sns\n",
        "sns.kdeplot(prior)"
      ],
      "execution_count": null,
      "outputs": [
        {
          "output_type": "stream",
          "text": [
            "/usr/local/lib/python3.6/dist-packages/statsmodels/tools/_testing.py:19: FutureWarning: pandas.util.testing is deprecated. Use the functions in the public API at pandas.testing instead.\n",
            "  import pandas.util.testing as tm\n"
          ],
          "name": "stderr"
        },
        {
          "output_type": "execute_result",
          "data": {
            "text/plain": [
              "<matplotlib.axes._subplots.AxesSubplot at 0x7fba2ebbc860>"
            ]
          },
          "metadata": {
            "tags": []
          },
          "execution_count": 7
        },
        {
          "output_type": "display_data",
          "data": {
            "image/png": "[encoded data removed]",
            "text/plain": [
              "<Figure size 432x288 with 1 Axes>"
            ]
          },
          "metadata": {
            "tags": []
          }
        }
      ]
    },
    {
      "cell_type": "markdown",
      "metadata": {
        "id": "sH5LzhnZBWFf"
      },
      "source": [
        "#4M2\n",
        "сделать то же самое, с помощью map, поскольку мы это не используем, значит время для pymc"
      ]
    },
    {
      "cell_type": "code",
      "metadata": {
        "id": "ZTzhx114Bjrf",
        "colab": {
          "base_uri": "https://localhost:8080/",
          "height": 234
        },
        "outputId": "02185a80-ea9b-4fcc-ef27-ab21b5ddd1f9"
      },
      "source": [
        "with pm.Model() as sim_prior:\n",
        "  mu= pm.Normal('mu',0, 10)\n",
        "  sigma= pm.Uniform('sigma', lower=0, upper=10)\n",
        "  y=pm.Normal('y', mu, sigma)\n",
        "  trace = pm.sample(1000)\n"
      ],
      "execution_count": null,
      "outputs": [
        {
          "output_type": "stream",
          "text": [
            "Auto-assigning NUTS sampler...\n",
            "Initializing NUTS using jitter+adapt_diag...\n",
            "Sequential sampling (2 chains in 1 job)\n",
            "NUTS: [y, sigma, mu]\n"
          ],
          "name": "stderr"
        },
        {
          "output_type": "display_data",
          "data": {
            "text/html": [
              "\n",
              "    <div>\n",
              "        <style>\n",
              "            /* Turns off some styling */\n",
              "            progress {\n",
              "                /* gets rid of default border in Firefox and Opera. */\n",
              "                border: none;\n",
              "                /* Needs to be in here for Safari polyfill so background images work as expected. */\n",
              "                background-size: auto;\n",
              "            }\n",
              "            .progress-bar-interrupted, .progress-bar-interrupted::-webkit-progress-bar {\n",
              "                background: #F44336;\n",
              "            }\n",
              "        </style>\n",
              "      <progress value='2000' class='' max='2000' style='width:300px; height:20px; vertical-align: middle;'></progress>\n",
              "      100.00% [2000/2000 00:03<00:00 Sampling chain 0, 141 divergences]\n",
              "    </div>\n",
              "    "
            ],
            "text/plain": [
              "<IPython.core.display.HTML object>"
            ]
          },
          "metadata": {
            "tags": []
          }
        },
        {
          "output_type": "display_data",
          "data": {
            "text/html": [
              "\n",
              "    <div>\n",
              "        <style>\n",
              "            /* Turns off some styling */\n",
              "            progress {\n",
              "                /* gets rid of default border in Firefox and Opera. */\n",
              "                border: none;\n",
              "                /* Needs to be in here for Safari polyfill so background images work as expected. */\n",
              "                background-size: auto;\n",
              "            }\n",
              "            .progress-bar-interrupted, .progress-bar-interrupted::-webkit-progress-bar {\n",
              "                background: #F44336;\n",
              "            }\n",
              "        </style>\n",
              "      <progress value='2000' class='' max='2000' style='width:300px; height:20px; vertical-align: middle;'></progress>\n",
              "      100.00% [2000/2000 00:02<00:00 Sampling chain 1, 169 divergences]\n",
              "    </div>\n",
              "    "
            ],
            "text/plain": [
              "<IPython.core.display.HTML object>"
            ]
          },
          "metadata": {
            "tags": []
          }
        },
        {
          "output_type": "stream",
          "text": [
            "Sampling 2 chains for 1_000 tune and 1_000 draw iterations (2_000 + 2_000 draws total) took 6 seconds.\n",
            "There were 141 divergences after tuning. Increase `target_accept` or reparameterize.\n",
            "The acceptance probability does not match the target. It is 0.6650093328319426, but should be close to 0.8. Try to increase the number of tuning steps.\n",
            "There were 310 divergences after tuning. Increase `target_accept` or reparameterize.\n",
            "The acceptance probability does not match the target. It is 0.6653367252869169, but should be close to 0.8. Try to increase the number of tuning steps.\n",
            "The estimated number of effective samples is smaller than 200 for some parameters.\n"
          ],
          "name": "stderr"
        }
      ]
    },
    {
      "cell_type": "code",
      "metadata": {
        "id": "FNh_QpkBC5IA",
        "colab": {
          "base_uri": "https://localhost:8080/",
          "height": 512
        },
        "outputId": "2afd5cc8-7925-4389-833b-3dda9801502b"
      },
      "source": [
        "az.plot_trace(trace);"
      ],
      "execution_count": null,
      "outputs": [
        {
          "output_type": "stream",
          "text": [
            "/usr/local/lib/python3.6/dist-packages/arviz/data/io_pymc3.py:89: FutureWarning: Using `from_pymc3` without the model will be deprecated in a future release. Not using the model will return less accurate and less useful results. Make sure you use the model argument or call from_pymc3 within a model context.\n",
            "  FutureWarning,\n"
          ],
          "name": "stderr"
        },
        {
          "output_type": "display_data",
          "data": {
            "image/png": "[encoded data removed]",
            "text/plain": [
              "<Figure size 864x432 with 6 Axes>"
            ]
          },
          "metadata": {
            "tags": []
          }
        }
      ]
    },
    {
      "cell_type": "markdown",
      "metadata": {
        "id": "lqEuw5rhDIGj"
      },
      "source": [
        "#4M3\n",
        "\n",
        "Замените код на формулы\n",
        "\n",
        "\n",
        "```\n",
        "flist <- alist(\n",
        "  y ~ dnorm(mu, sigma),\n",
        "  mu <- a + b*x,\n",
        "  a ~ dnorm(0, 50),\n",
        "  b ~ dunif(0, 10),\n",
        "  sigma ~ dunif(0, 50)\n",
        ")\n",
        "```\n",
        "\n",
        "\n",
        "ответ:\n",
        "\n",
        "$y ∼ Normal(\\mu,\\sigma)$\n",
        "\n",
        "$\\mu_i = \\alpha + \\beta* x $\n",
        "\n",
        "$\\alpha ∼𝑁𝑜𝑟𝑚𝑎𝑙(0,50)$\n",
        "\n",
        "$\\beta ∼ Uniform(0,10)$\n",
        "\n",
        "$𝜎∼𝑈𝑛𝑖𝑓𝑜𝑟𝑚(0,50)  $\n",
        "\n"
      ]
    },
    {
      "cell_type": "markdown",
      "metadata": {
        "id": "tnrML8aIGyLS"
      },
      "source": [
        "#4М4\n",
        "\n",
        "\n",
        "A sample of students is measured for height each year for 3 years. After the third year, you want to fit a linear regression predicting height using year as a predictor. Write down the mathematical model definition for this regression, using any variable names and priors you choose. Be prepared to defend you choice of priors."
      ]
    },
    {
      "cell_type": "markdown",
      "metadata": {
        "id": "Dqfg6RsTHyLT"
      },
      "source": [
        "Cначала нужно определить широкий интервал для распределения\n",
        "\n",
        "$y ∼ Normal(\\mu,\\sigma)$\n",
        "\n",
        "затем линейная модель\n",
        "\n",
        "$\\mu_i = \\alpha + \\beta* x $\n",
        "\n",
        "дальше параметры \n",
        "\n",
        "$\\alpha ∼𝑁𝑜𝑟𝑚𝑎𝑙(150,25)$, допустим средний рост будет 150 и позволим отклоняться на 25 см\n",
        "\n",
        "$\\beta ∼ Normal(4,2)$ сколько они растут за год\n",
        "\n",
        "$𝜎∼𝑈𝑛𝑖𝑓𝑜𝑟𝑚(0,50) $ допустим, он тоже будет достаточно широким\n"
      ]
    },
    {
      "cell_type": "markdown",
      "metadata": {
        "id": "XXQefd7cV4RN"
      },
      "source": [
        "#4М5\n",
        "\n"
      ]
    },
    {
      "cell_type": "markdown",
      "metadata": {
        "id": "2hYEsyORNcJv"
      },
      "source": [
        "Теперь мы узнали что в среднем 120 см, и каждый студент растет каждый год\n",
        "\n",
        "Можно сделать вывод, что студенты не совсем студенты, а первоклассники, например. Значит приоры мы меняем так:\n",
        "$y ∼ Normal(\\mu,\\sigma)$\n",
        "\n",
        "затем линейная модель\n",
        "\n",
        "$\\mu_i = \\alpha + \\beta* x $\n",
        "\n",
        "дальше параметры \n",
        "\n",
        "$\\alpha ∼𝑁𝑜𝑟𝑚𝑎𝑙(120,15)$тут наш рост с стд\n",
        "\n",
        "$\\beta ∼ Normal(6,2)$ думаю, растущий организм, значит, и расти будут выше\n",
        "\n",
        "$𝜎∼𝑈𝑛𝑖𝑓𝑜𝑟𝑚(0,20) $ думаю, и юниформ тоже уменьшится из-за того, что в нем остались только люди школьного возраста"
      ]
    },
    {
      "cell_type": "markdown",
      "metadata": {
        "id": "aaxrmuudV737"
      },
      "source": [
        "#4М6"
      ]
    },
    {
      "cell_type": "markdown",
      "metadata": {
        "id": "z74xIsETWDDP"
      },
      "source": [
        "Стала известна дисперсия в 64, значит значения сигмы не могут быть больше 8\n",
        "\n",
        "Поменяем\n",
        "$𝜎∼𝑈𝑛𝑖𝑓𝑜𝑟𝑚(0,8) $ "
      ]
    },
    {
      "cell_type": "markdown",
      "metadata": {
        "id": "F152ZCvnRUve"
      },
      "source": [
        "#4H1\n",
        "\n"
      ]
    },
    {
      "cell_type": "code",
      "metadata": {
        "id": "ACuFjUOxRUWo",
        "colab": {
          "base_uri": "https://localhost:8080/",
          "height": 197
        },
        "outputId": "7171a139-8cfb-4cec-95c5-02c7a0007cef"
      },
      "source": [
        "df_h=pd.DataFrame({'ind_weight': [46.95, 43.72, 64.78, 32.59, 54.63]})\n",
        "df_h['expected_height']=\"\"\n",
        "df_h['89_int']=''\n",
        "df_h"
      ],
      "execution_count": null,
      "outputs": [
        {
          "output_type": "execute_result",
          "data": {
            "text/html": [
              "<div>\n",
              "<style scoped>\n",
              "    .dataframe tbody tr th:only-of-type {\n",
              "        vertical-align: middle;\n",
              "    }\n",
              "\n",
              "    .dataframe tbody tr th {\n",
              "        vertical-align: top;\n",
              "    }\n",
              "\n",
              "    .dataframe thead th {\n",
              "        text-align: right;\n",
              "    }\n",
              "</style>\n",
              "<table border=\"1\" class=\"dataframe\">\n",
              "  <thead>\n",
              "    <tr style=\"text-align: right;\">\n",
              "      <th></th>\n",
              "      <th>ind_weight</th>\n",
              "      <th>expected_height</th>\n",
              "      <th>89_int</th>\n",
              "    </tr>\n",
              "  </thead>\n",
              "  <tbody>\n",
              "    <tr>\n",
              "      <th>0</th>\n",
              "      <td>46.95</td>\n",
              "      <td></td>\n",
              "      <td></td>\n",
              "    </tr>\n",
              "    <tr>\n",
              "      <th>1</th>\n",
              "      <td>43.72</td>\n",
              "      <td></td>\n",
              "      <td></td>\n",
              "    </tr>\n",
              "    <tr>\n",
              "      <th>2</th>\n",
              "      <td>64.78</td>\n",
              "      <td></td>\n",
              "      <td></td>\n",
              "    </tr>\n",
              "    <tr>\n",
              "      <th>3</th>\n",
              "      <td>32.59</td>\n",
              "      <td></td>\n",
              "      <td></td>\n",
              "    </tr>\n",
              "    <tr>\n",
              "      <th>4</th>\n",
              "      <td>54.63</td>\n",
              "      <td></td>\n",
              "      <td></td>\n",
              "    </tr>\n",
              "  </tbody>\n",
              "</table>\n",
              "</div>"
            ],
            "text/plain": [
              "   ind_weight expected_height 89_int\n",
              "0       46.95                       \n",
              "1       43.72                       \n",
              "2       64.78                       \n",
              "3       32.59                       \n",
              "4       54.63                       "
            ]
          },
          "metadata": {
            "tags": []
          },
          "execution_count": 50
        }
      ]
    },
    {
      "cell_type": "markdown",
      "metadata": {
        "id": "HeijKWWvf1d3"
      },
      "source": [
        "Задание: заполнить предполагаемым ростом человека и интервалом hpd"
      ]
    },
    {
      "cell_type": "code",
      "metadata": {
        "id": "1JcRkSPVgdI4"
      },
      "source": [
        "ind_w=df_h.ind_weight.values"
      ],
      "execution_count": null,
      "outputs": []
    },
    {
      "cell_type": "code",
      "metadata": {
        "id": "rkRywHmcfpHq",
        "colab": {
          "base_uri": "https://localhost:8080/",
          "height": 234
        },
        "outputId": "4d7c6014-32ae-4021-e879-91484ec2270d"
      },
      "source": [
        "with pm.Model() as pred_h:\n",
        "    alpha = pm.Normal('alpha', mu=150, sd=30)\n",
        "    beta = pm.Normal('beta', mu=0, sd=10)\n",
        "    sigma = pm.Uniform('sigma', lower=0, upper=50)\n",
        "    mu = pm.Deterministic('mu', alpha + beta *ind_w ) \n",
        "    height = pm.Normal('height', mu=mu, sd=sigma, observed=ind_w)\n",
        "    trace = pm.sample(2000, tune=2000)"
      ],
      "execution_count": null,
      "outputs": [
        {
          "output_type": "stream",
          "text": [
            "Auto-assigning NUTS sampler...\n",
            "Initializing NUTS using jitter+adapt_diag...\n",
            "Sequential sampling (2 chains in 1 job)\n",
            "NUTS: [sigma, beta, alpha]\n"
          ],
          "name": "stderr"
        },
        {
          "output_type": "display_data",
          "data": {
            "text/html": [
              "\n",
              "    <div>\n",
              "        <style>\n",
              "            /* Turns off some styling */\n",
              "            progress {\n",
              "                /* gets rid of default border in Firefox and Opera. */\n",
              "                border: none;\n",
              "                /* Needs to be in here for Safari polyfill so background images work as expected. */\n",
              "                background-size: auto;\n",
              "            }\n",
              "            .progress-bar-interrupted, .progress-bar-interrupted::-webkit-progress-bar {\n",
              "                background: #F44336;\n",
              "            }\n",
              "        </style>\n",
              "      <progress value='4000' class='' max='4000' style='width:300px; height:20px; vertical-align: middle;'></progress>\n",
              "      100.00% [4000/4000 00:05<00:00 Sampling chain 0, 46 divergences]\n",
              "    </div>\n",
              "    "
            ],
            "text/plain": [
              "<IPython.core.display.HTML object>"
            ]
          },
          "metadata": {
            "tags": []
          }
        },
        {
          "output_type": "display_data",
          "data": {
            "text/html": [
              "\n",
              "    <div>\n",
              "        <style>\n",
              "            /* Turns off some styling */\n",
              "            progress {\n",
              "                /* gets rid of default border in Firefox and Opera. */\n",
              "                border: none;\n",
              "                /* Needs to be in here for Safari polyfill so background images work as expected. */\n",
              "                background-size: auto;\n",
              "            }\n",
              "            .progress-bar-interrupted, .progress-bar-interrupted::-webkit-progress-bar {\n",
              "                background: #F44336;\n",
              "            }\n",
              "        </style>\n",
              "      <progress value='4000' class='' max='4000' style='width:300px; height:20px; vertical-align: middle;'></progress>\n",
              "      100.00% [4000/4000 00:09<00:00 Sampling chain 1, 388 divergences]\n",
              "    </div>\n",
              "    "
            ],
            "text/plain": [
              "<IPython.core.display.HTML object>"
            ]
          },
          "metadata": {
            "tags": []
          }
        },
        {
          "output_type": "stream",
          "text": [
            "Sampling 2 chains for 2_000 tune and 2_000 draw iterations (4_000 + 4_000 draws total) took 14 seconds.\n",
            "There were 46 divergences after tuning. Increase `target_accept` or reparameterize.\n",
            "There were 434 divergences after tuning. Increase `target_accept` or reparameterize.\n",
            "The acceptance probability does not match the target. It is 0.5314203488978319, but should be close to 0.8. Try to increase the number of tuning steps.\n",
            "The rhat statistic is larger than 1.4 for some parameters. The sampler did not converge.\n",
            "The estimated number of effective samples is smaller than 200 for some parameters.\n"
          ],
          "name": "stderr"
        }
      ]
    },
    {
      "cell_type": "code",
      "metadata": {
        "id": "v9i88m-Mg2i2",
        "colab": {
          "base_uri": "https://localhost:8080/",
          "height": 193
        },
        "outputId": "1006a93d-d17d-4873-b063-4a7bca3fcd69"
      },
      "source": [
        "az.summary(trace, var_names=[\"~mu\"])"
      ],
      "execution_count": null,
      "outputs": [
        {
          "output_type": "stream",
          "text": [
            "/usr/local/lib/python3.6/dist-packages/arviz/data/io_pymc3.py:89: FutureWarning: Using `from_pymc3` without the model will be deprecated in a future release. Not using the model will return less accurate and less useful results. Make sure you use the model argument or call from_pymc3 within a model context.\n",
            "  FutureWarning,\n"
          ],
          "name": "stderr"
        },
        {
          "output_type": "execute_result",
          "data": {
            "text/html": [
              "<div>\n",
              "<style scoped>\n",
              "    .dataframe tbody tr th:only-of-type {\n",
              "        vertical-align: middle;\n",
              "    }\n",
              "\n",
              "    .dataframe tbody tr th {\n",
              "        vertical-align: top;\n",
              "    }\n",
              "\n",
              "    .dataframe thead th {\n",
              "        text-align: right;\n",
              "    }\n",
              "</style>\n",
              "<table border=\"1\" class=\"dataframe\">\n",
              "  <thead>\n",
              "    <tr style=\"text-align: right;\">\n",
              "      <th></th>\n",
              "      <th>mean</th>\n",
              "      <th>sd</th>\n",
              "      <th>hdi_3%</th>\n",
              "      <th>hdi_97%</th>\n",
              "      <th>mcse_mean</th>\n",
              "      <th>mcse_sd</th>\n",
              "      <th>ess_mean</th>\n",
              "      <th>ess_sd</th>\n",
              "      <th>ess_bulk</th>\n",
              "      <th>ess_tail</th>\n",
              "      <th>r_hat</th>\n",
              "    </tr>\n",
              "  </thead>\n",
              "  <tbody>\n",
              "    <tr>\n",
              "      <th>alpha</th>\n",
              "      <td>115.325</td>\n",
              "      <td>37.790</td>\n",
              "      <td>29.981</td>\n",
              "      <td>180.726</td>\n",
              "      <td>4.273</td>\n",
              "      <td>3.033</td>\n",
              "      <td>78.0</td>\n",
              "      <td>78.0</td>\n",
              "      <td>113.0</td>\n",
              "      <td>28.0</td>\n",
              "      <td>1.02</td>\n",
              "    </tr>\n",
              "    <tr>\n",
              "      <th>beta</th>\n",
              "      <td>-1.259</td>\n",
              "      <td>0.797</td>\n",
              "      <td>-2.664</td>\n",
              "      <td>0.458</td>\n",
              "      <td>0.084</td>\n",
              "      <td>0.060</td>\n",
              "      <td>90.0</td>\n",
              "      <td>90.0</td>\n",
              "      <td>111.0</td>\n",
              "      <td>28.0</td>\n",
              "      <td>1.02</td>\n",
              "    </tr>\n",
              "    <tr>\n",
              "      <th>sigma</th>\n",
              "      <td>31.260</td>\n",
              "      <td>10.664</td>\n",
              "      <td>13.650</td>\n",
              "      <td>49.846</td>\n",
              "      <td>1.041</td>\n",
              "      <td>0.738</td>\n",
              "      <td>105.0</td>\n",
              "      <td>105.0</td>\n",
              "      <td>104.0</td>\n",
              "      <td>30.0</td>\n",
              "      <td>1.02</td>\n",
              "    </tr>\n",
              "  </tbody>\n",
              "</table>\n",
              "</div>"
            ],
            "text/plain": [
              "          mean      sd  hdi_3%  hdi_97%  ...  ess_sd  ess_bulk  ess_tail  r_hat\n",
              "alpha  115.325  37.790  29.981  180.726  ...    78.0     113.0      28.0   1.02\n",
              "beta    -1.259   0.797  -2.664    0.458  ...    90.0     111.0      28.0   1.02\n",
              "sigma   31.260  10.664  13.650   49.846  ...   105.0     104.0      30.0   1.02\n",
              "\n",
              "[3 rows x 11 columns]"
            ]
          },
          "metadata": {
            "tags": []
          },
          "execution_count": 54
        }
      ]
    },
    {
      "cell_type": "code",
      "metadata": {
        "id": "0W5h9J23mA9M",
        "colab": {
          "base_uri": "https://localhost:8080/",
          "height": 406
        },
        "outputId": "9b3637ce-d031-40a7-a40e-31c4bbef8072"
      },
      "source": [
        "#что-то я запуталась на этом моменте, но вроде как это должно работать вот так\n",
        "df_for_h=pm.trace_to_dataframe(trace)\n",
        "df_for_h.mu__0.mean()+df_h.ind_weight[0]\n",
        "df_for_h.round(2)"
      ],
      "execution_count": null,
      "outputs": [
        {
          "output_type": "execute_result",
          "data": {
            "text/html": [
              "<div>\n",
              "<style scoped>\n",
              "    .dataframe tbody tr th:only-of-type {\n",
              "        vertical-align: middle;\n",
              "    }\n",
              "\n",
              "    .dataframe tbody tr th {\n",
              "        vertical-align: top;\n",
              "    }\n",
              "\n",
              "    .dataframe thead th {\n",
              "        text-align: right;\n",
              "    }\n",
              "</style>\n",
              "<table border=\"1\" class=\"dataframe\">\n",
              "  <thead>\n",
              "    <tr style=\"text-align: right;\">\n",
              "      <th></th>\n",
              "      <th>alpha</th>\n",
              "      <th>beta</th>\n",
              "      <th>sigma</th>\n",
              "      <th>mu__0</th>\n",
              "      <th>mu__1</th>\n",
              "      <th>mu__2</th>\n",
              "      <th>mu__3</th>\n",
              "      <th>mu__4</th>\n",
              "    </tr>\n",
              "  </thead>\n",
              "  <tbody>\n",
              "    <tr>\n",
              "      <th>0</th>\n",
              "      <td>171.02</td>\n",
              "      <td>-2.66</td>\n",
              "      <td>46.44</td>\n",
              "      <td>46.16</td>\n",
              "      <td>54.75</td>\n",
              "      <td>-1.25</td>\n",
              "      <td>84.35</td>\n",
              "      <td>25.74</td>\n",
              "    </tr>\n",
              "    <tr>\n",
              "      <th>1</th>\n",
              "      <td>104.34</td>\n",
              "      <td>-0.76</td>\n",
              "      <td>44.66</td>\n",
              "      <td>68.78</td>\n",
              "      <td>71.23</td>\n",
              "      <td>55.28</td>\n",
              "      <td>79.66</td>\n",
              "      <td>62.97</td>\n",
              "    </tr>\n",
              "    <tr>\n",
              "      <th>2</th>\n",
              "      <td>119.58</td>\n",
              "      <td>-1.15</td>\n",
              "      <td>47.77</td>\n",
              "      <td>65.50</td>\n",
              "      <td>69.22</td>\n",
              "      <td>44.96</td>\n",
              "      <td>82.04</td>\n",
              "      <td>56.65</td>\n",
              "    </tr>\n",
              "    <tr>\n",
              "      <th>3</th>\n",
              "      <td>106.92</td>\n",
              "      <td>-1.68</td>\n",
              "      <td>48.02</td>\n",
              "      <td>27.91</td>\n",
              "      <td>33.35</td>\n",
              "      <td>-2.09</td>\n",
              "      <td>52.08</td>\n",
              "      <td>14.99</td>\n",
              "    </tr>\n",
              "    <tr>\n",
              "      <th>4</th>\n",
              "      <td>96.68</td>\n",
              "      <td>-2.10</td>\n",
              "      <td>46.66</td>\n",
              "      <td>-2.07</td>\n",
              "      <td>4.72</td>\n",
              "      <td>-39.57</td>\n",
              "      <td>28.13</td>\n",
              "      <td>-18.22</td>\n",
              "    </tr>\n",
              "    <tr>\n",
              "      <th>...</th>\n",
              "      <td>...</td>\n",
              "      <td>...</td>\n",
              "      <td>...</td>\n",
              "      <td>...</td>\n",
              "      <td>...</td>\n",
              "      <td>...</td>\n",
              "      <td>...</td>\n",
              "      <td>...</td>\n",
              "    </tr>\n",
              "    <tr>\n",
              "      <th>3995</th>\n",
              "      <td>-0.00</td>\n",
              "      <td>1.00</td>\n",
              "      <td>0.00</td>\n",
              "      <td>46.95</td>\n",
              "      <td>43.72</td>\n",
              "      <td>64.78</td>\n",
              "      <td>32.59</td>\n",
              "      <td>54.63</td>\n",
              "    </tr>\n",
              "    <tr>\n",
              "      <th>3996</th>\n",
              "      <td>-0.00</td>\n",
              "      <td>1.00</td>\n",
              "      <td>0.00</td>\n",
              "      <td>46.95</td>\n",
              "      <td>43.72</td>\n",
              "      <td>64.78</td>\n",
              "      <td>32.59</td>\n",
              "      <td>54.63</td>\n",
              "    </tr>\n",
              "    <tr>\n",
              "      <th>3997</th>\n",
              "      <td>-0.00</td>\n",
              "      <td>1.00</td>\n",
              "      <td>0.00</td>\n",
              "      <td>46.95</td>\n",
              "      <td>43.72</td>\n",
              "      <td>64.78</td>\n",
              "      <td>32.59</td>\n",
              "      <td>54.63</td>\n",
              "    </tr>\n",
              "    <tr>\n",
              "      <th>3998</th>\n",
              "      <td>-0.00</td>\n",
              "      <td>1.00</td>\n",
              "      <td>0.00</td>\n",
              "      <td>46.95</td>\n",
              "      <td>43.72</td>\n",
              "      <td>64.78</td>\n",
              "      <td>32.59</td>\n",
              "      <td>54.63</td>\n",
              "    </tr>\n",
              "    <tr>\n",
              "      <th>3999</th>\n",
              "      <td>-0.00</td>\n",
              "      <td>1.00</td>\n",
              "      <td>0.00</td>\n",
              "      <td>46.95</td>\n",
              "      <td>43.72</td>\n",
              "      <td>64.78</td>\n",
              "      <td>32.59</td>\n",
              "      <td>54.63</td>\n",
              "    </tr>\n",
              "  </tbody>\n",
              "</table>\n",
              "<p>4000 rows × 8 columns</p>\n",
              "</div>"
            ],
            "text/plain": [
              "       alpha  beta  sigma  mu__0  mu__1  mu__2  mu__3  mu__4\n",
              "0     171.02 -2.66  46.44  46.16  54.75  -1.25  84.35  25.74\n",
              "1     104.34 -0.76  44.66  68.78  71.23  55.28  79.66  62.97\n",
              "2     119.58 -1.15  47.77  65.50  69.22  44.96  82.04  56.65\n",
              "3     106.92 -1.68  48.02  27.91  33.35  -2.09  52.08  14.99\n",
              "4      96.68 -2.10  46.66  -2.07   4.72 -39.57  28.13 -18.22\n",
              "...      ...   ...    ...    ...    ...    ...    ...    ...\n",
              "3995   -0.00  1.00   0.00  46.95  43.72  64.78  32.59  54.63\n",
              "3996   -0.00  1.00   0.00  46.95  43.72  64.78  32.59  54.63\n",
              "3997   -0.00  1.00   0.00  46.95  43.72  64.78  32.59  54.63\n",
              "3998   -0.00  1.00   0.00  46.95  43.72  64.78  32.59  54.63\n",
              "3999   -0.00  1.00   0.00  46.95  43.72  64.78  32.59  54.63\n",
              "\n",
              "[4000 rows x 8 columns]"
            ]
          },
          "metadata": {
            "tags": []
          },
          "execution_count": 76
        }
      ]
    },
    {
      "cell_type": "code",
      "metadata": {
        "id": "NxTMDIPPhLkH",
        "colab": {
          "base_uri": "https://localhost:8080/",
          "height": 197
        },
        "outputId": "111ac036-b84b-4755-b04a-f4cdb568d086"
      },
      "source": [
        "#не очень красиво как-то, но вот\n",
        "df_h= df_h.assign(expected_height=[df_for_h.mu__0.mean()+df_h.ind_weight[0], df_for_h.mu__1.mean() +df_h.ind_weight[1], df_for_h.mu__2.mean()+ \\\n",
        "                                   df_h.ind_weight[2], df_for_h.mu__3.mean() +df_h.ind_weight[3], df_for_h.mu__4.mean() +df_h.ind_weight[4]])\n",
        "df_h"
      ],
      "execution_count": null,
      "outputs": [
        {
          "output_type": "execute_result",
          "data": {
            "text/html": [
              "<div>\n",
              "<style scoped>\n",
              "    .dataframe tbody tr th:only-of-type {\n",
              "        vertical-align: middle;\n",
              "    }\n",
              "\n",
              "    .dataframe tbody tr th {\n",
              "        vertical-align: top;\n",
              "    }\n",
              "\n",
              "    .dataframe thead th {\n",
              "        text-align: right;\n",
              "    }\n",
              "</style>\n",
              "<table border=\"1\" class=\"dataframe\">\n",
              "  <thead>\n",
              "    <tr style=\"text-align: right;\">\n",
              "      <th></th>\n",
              "      <th>ind_weight</th>\n",
              "      <th>expected_height</th>\n",
              "      <th>89_int</th>\n",
              "    </tr>\n",
              "  </thead>\n",
              "  <tbody>\n",
              "    <tr>\n",
              "      <th>0</th>\n",
              "      <td>46.95</td>\n",
              "      <td>98.401314</td>\n",
              "      <td></td>\n",
              "    </tr>\n",
              "    <tr>\n",
              "      <th>1</th>\n",
              "      <td>43.72</td>\n",
              "      <td>95.746206</td>\n",
              "      <td></td>\n",
              "    </tr>\n",
              "    <tr>\n",
              "      <th>2</th>\n",
              "      <td>64.78</td>\n",
              "      <td>113.057837</td>\n",
              "      <td></td>\n",
              "    </tr>\n",
              "    <tr>\n",
              "      <th>3</th>\n",
              "      <td>32.59</td>\n",
              "      <td>86.597182</td>\n",
              "      <td></td>\n",
              "    </tr>\n",
              "    <tr>\n",
              "      <th>4</th>\n",
              "      <td>54.63</td>\n",
              "      <td>104.714387</td>\n",
              "      <td></td>\n",
              "    </tr>\n",
              "  </tbody>\n",
              "</table>\n",
              "</div>"
            ],
            "text/plain": [
              "   ind_weight  expected_height 89_int\n",
              "0       46.95        98.401314       \n",
              "1       43.72        95.746206       \n",
              "2       64.78       113.057837       \n",
              "3       32.59        86.597182       \n",
              "4       54.63       104.714387       "
            ]
          },
          "metadata": {
            "tags": []
          },
          "execution_count": 84
        }
      ]
    },
    {
      "cell_type": "markdown",
      "metadata": {
        "id": "YgsEdHHvSf4j"
      },
      "source": [
        "#4H2\n"
      ]
    },
    {
      "cell_type": "code",
      "metadata": {
        "id": "z2z-NI5wS0Rs",
        "colab": {
          "base_uri": "https://localhost:8080/",
          "height": 34
        },
        "outputId": "a33ac20c-a18c-40af-b0cf-cade2d15e3c0"
      },
      "source": [
        "df.age[df['age']<18].count()"
      ],
      "execution_count": null,
      "outputs": [
        {
          "output_type": "execute_result",
          "data": {
            "text/plain": [
              "192"
            ]
          },
          "metadata": {
            "tags": []
          },
          "execution_count": 18
        }
      ]
    },
    {
      "cell_type": "code",
      "metadata": {
        "id": "DU8b5umOTNia"
      },
      "source": [
        "#возьмем все 192 человека и выберем их по весу и росту\n",
        "weight_18=df.weight[df.age<18].values\n",
        "height_18=df.height[df.age<18].values"
      ],
      "execution_count": null,
      "outputs": []
    },
    {
      "cell_type": "code",
      "metadata": {
        "id": "xBuNCpkqU035",
        "colab": {
          "base_uri": "https://localhost:8080/",
          "height": 34
        },
        "outputId": "935bcc11-aae7-4df7-9ebd-0ab8b25a7a5a"
      },
      "source": [
        "#теперь посмотрим по росту на среднее и sd \n",
        "height_18.mean(), height_18.std(), height_18.max(), height_18.min()"
      ],
      "execution_count": null,
      "outputs": [
        {
          "output_type": "execute_result",
          "data": {
            "text/plain": [
              "(108.31885312499999, 25.678006889965896, 158.115, 53.975)"
            ]
          },
          "metadata": {
            "tags": []
          },
          "execution_count": 23
        }
      ]
    },
    {
      "cell_type": "code",
      "metadata": {
        "id": "i5tjc7aEVkCt",
        "colab": {
          "base_uri": "https://localhost:8080/",
          "height": 34
        },
        "outputId": "70ec25c0-51d9-4042-8ca0-638e22662fc8"
      },
      "source": [
        "weight_18.max(), weight_18.min()"
      ],
      "execution_count": null,
      "outputs": [
        {
          "output_type": "execute_result",
          "data": {
            "text/plain": [
              "(44.735510999999995, 4.252425)"
            ]
          },
          "metadata": {
            "tags": []
          },
          "execution_count": 25
        }
      ]
    },
    {
      "cell_type": "markdown",
      "metadata": {
        "id": "3mMNK5N8VcW_"
      },
      "source": [
        "похоже что в датасете есть и малыши около двух лет"
      ]
    },
    {
      "cell_type": "code",
      "metadata": {
        "id": "94WLwuehV2Pn",
        "colab": {
          "base_uri": "https://localhost:8080/",
          "height": 163
        },
        "outputId": "cc06528f-c7be-4edc-eebb-ac9b3b4d2c2e"
      },
      "source": [
        "#строим модель\n",
        "with pm.Model() as under_18:\n",
        "    alpha = pm.Normal('alpha', mu=110, sd=30)\n",
        "    beta = pm.Normal('beta', mu=0, sd=50)\n",
        "    sigma = pm.Uniform('sigma', lower=0, upper=60)\n",
        "    mu = pm.Deterministic('mu', alpha + beta * weight_18) \n",
        "    height = pm.Normal('height', mu=mu, sd=sigma, observed=height_18)\n",
        "    trace = pm.sample(2000, tune=2000)"
      ],
      "execution_count": null,
      "outputs": [
        {
          "output_type": "stream",
          "text": [
            "Auto-assigning NUTS sampler...\n",
            "Initializing NUTS using jitter+adapt_diag...\n",
            "Sequential sampling (2 chains in 1 job)\n",
            "NUTS: [sigma, beta, alpha]\n"
          ],
          "name": "stderr"
        },
        {
          "output_type": "display_data",
          "data": {
            "text/html": [
              "\n",
              "    <div>\n",
              "        <style>\n",
              "            /* Turns off some styling */\n",
              "            progress {\n",
              "                /* gets rid of default border in Firefox and Opera. */\n",
              "                border: none;\n",
              "                /* Needs to be in here for Safari polyfill so background images work as expected. */\n",
              "                background-size: auto;\n",
              "            }\n",
              "            .progress-bar-interrupted, .progress-bar-interrupted::-webkit-progress-bar {\n",
              "                background: #F44336;\n",
              "            }\n",
              "        </style>\n",
              "      <progress value='4000' class='' max='4000' style='width:300px; height:20px; vertical-align: middle;'></progress>\n",
              "      100.00% [4000/4000 00:06<00:00 Sampling chain 0, 0 divergences]\n",
              "    </div>\n",
              "    "
            ],
            "text/plain": [
              "<IPython.core.display.HTML object>"
            ]
          },
          "metadata": {
            "tags": []
          }
        },
        {
          "output_type": "display_data",
          "data": {
            "text/html": [
              "\n",
              "    <div>\n",
              "        <style>\n",
              "            /* Turns off some styling */\n",
              "            progress {\n",
              "                /* gets rid of default border in Firefox and Opera. */\n",
              "                border: none;\n",
              "                /* Needs to be in here for Safari polyfill so background images work as expected. */\n",
              "                background-size: auto;\n",
              "            }\n",
              "            .progress-bar-interrupted, .progress-bar-interrupted::-webkit-progress-bar {\n",
              "                background: #F44336;\n",
              "            }\n",
              "        </style>\n",
              "      <progress value='4000' class='' max='4000' style='width:300px; height:20px; vertical-align: middle;'></progress>\n",
              "      100.00% [4000/4000 00:05<00:00 Sampling chain 1, 0 divergences]\n",
              "    </div>\n",
              "    "
            ],
            "text/plain": [
              "<IPython.core.display.HTML object>"
            ]
          },
          "metadata": {
            "tags": []
          }
        },
        {
          "output_type": "stream",
          "text": [
            "Sampling 2 chains for 2_000 tune and 2_000 draw iterations (4_000 + 4_000 draws total) took 12 seconds.\n",
            "The acceptance probability does not match the target. It is 0.7087688398010352, but should be close to 0.8. Try to increase the number of tuning steps.\n"
          ],
          "name": "stderr"
        }
      ]
    },
    {
      "cell_type": "code",
      "metadata": {
        "id": "LUtFOotaWu4m",
        "colab": {
          "base_uri": "https://localhost:8080/",
          "height": 193
        },
        "outputId": "eb4918f7-1135-46ba-aeba-0659294a2c7f"
      },
      "source": [
        "az.summary(trace, var_names=[\"~mu\"])"
      ],
      "execution_count": null,
      "outputs": [
        {
          "output_type": "stream",
          "text": [
            "/usr/local/lib/python3.6/dist-packages/arviz/data/io_pymc3.py:89: FutureWarning: Using `from_pymc3` without the model will be deprecated in a future release. Not using the model will return less accurate and less useful results. Make sure you use the model argument or call from_pymc3 within a model context.\n",
            "  FutureWarning,\n"
          ],
          "name": "stderr"
        },
        {
          "output_type": "execute_result",
          "data": {
            "text/html": [
              "<div>\n",
              "<style scoped>\n",
              "    .dataframe tbody tr th:only-of-type {\n",
              "        vertical-align: middle;\n",
              "    }\n",
              "\n",
              "    .dataframe tbody tr th {\n",
              "        vertical-align: top;\n",
              "    }\n",
              "\n",
              "    .dataframe thead th {\n",
              "        text-align: right;\n",
              "    }\n",
              "</style>\n",
              "<table border=\"1\" class=\"dataframe\">\n",
              "  <thead>\n",
              "    <tr style=\"text-align: right;\">\n",
              "      <th></th>\n",
              "      <th>mean</th>\n",
              "      <th>sd</th>\n",
              "      <th>hdi_3%</th>\n",
              "      <th>hdi_97%</th>\n",
              "      <th>mcse_mean</th>\n",
              "      <th>mcse_sd</th>\n",
              "      <th>ess_mean</th>\n",
              "      <th>ess_sd</th>\n",
              "      <th>ess_bulk</th>\n",
              "      <th>ess_tail</th>\n",
              "      <th>r_hat</th>\n",
              "    </tr>\n",
              "  </thead>\n",
              "  <tbody>\n",
              "    <tr>\n",
              "      <th>alpha</th>\n",
              "      <td>58.354</td>\n",
              "      <td>1.453</td>\n",
              "      <td>55.718</td>\n",
              "      <td>61.077</td>\n",
              "      <td>0.038</td>\n",
              "      <td>0.027</td>\n",
              "      <td>1429.0</td>\n",
              "      <td>1419.0</td>\n",
              "      <td>1422.0</td>\n",
              "      <td>1478.0</td>\n",
              "      <td>1.0</td>\n",
              "    </tr>\n",
              "    <tr>\n",
              "      <th>beta</th>\n",
              "      <td>2.715</td>\n",
              "      <td>0.071</td>\n",
              "      <td>2.589</td>\n",
              "      <td>2.853</td>\n",
              "      <td>0.002</td>\n",
              "      <td>0.001</td>\n",
              "      <td>1310.0</td>\n",
              "      <td>1310.0</td>\n",
              "      <td>1309.0</td>\n",
              "      <td>1680.0</td>\n",
              "      <td>1.0</td>\n",
              "    </tr>\n",
              "    <tr>\n",
              "      <th>sigma</th>\n",
              "      <td>8.547</td>\n",
              "      <td>0.458</td>\n",
              "      <td>7.753</td>\n",
              "      <td>9.425</td>\n",
              "      <td>0.011</td>\n",
              "      <td>0.008</td>\n",
              "      <td>1701.0</td>\n",
              "      <td>1701.0</td>\n",
              "      <td>1658.0</td>\n",
              "      <td>1248.0</td>\n",
              "      <td>1.0</td>\n",
              "    </tr>\n",
              "  </tbody>\n",
              "</table>\n",
              "</div>"
            ],
            "text/plain": [
              "         mean     sd  hdi_3%  hdi_97%  ...  ess_sd  ess_bulk  ess_tail  r_hat\n",
              "alpha  58.354  1.453  55.718   61.077  ...  1419.0    1422.0    1478.0    1.0\n",
              "beta    2.715  0.071   2.589    2.853  ...  1310.0    1309.0    1680.0    1.0\n",
              "sigma   8.547  0.458   7.753    9.425  ...  1701.0    1658.0    1248.0    1.0\n",
              "\n",
              "[3 rows x 11 columns]"
            ]
          },
          "metadata": {
            "tags": []
          },
          "execution_count": 29
        }
      ]
    },
    {
      "cell_type": "markdown",
      "metadata": {
        "id": "G4vYvmMxWxxy"
      },
      "source": [
        "получается в среднем дети из этой модели растут на 2,7 см примерно. И стандартное отклонение около 8,5 см для детей в нашем датасете. "
      ]
    },
    {
      "cell_type": "code",
      "metadata": {
        "id": "AO3DcWzyXY0T",
        "colab": {
          "base_uri": "https://localhost:8080/",
          "height": 92
        },
        "outputId": "eda9bf29-205b-4448-860f-8359d611f72c"
      },
      "source": [
        "pred = pm.sample_posterior_predictive(trace, 1000, under_18)"
      ],
      "execution_count": null,
      "outputs": [
        {
          "output_type": "stream",
          "text": [
            "/usr/local/lib/python3.6/dist-packages/pymc3/sampling.py:1618: UserWarning: samples parameter is smaller than nchains times ndraws, some draws and/or chains may not be represented in the returned posterior predictive sample\n",
            "  \"samples parameter is smaller than nchains times ndraws, some draws \"\n"
          ],
          "name": "stderr"
        },
        {
          "output_type": "display_data",
          "data": {
            "text/html": [
              "\n",
              "    <div>\n",
              "        <style>\n",
              "            /* Turns off some styling */\n",
              "            progress {\n",
              "                /* gets rid of default border in Firefox and Opera. */\n",
              "                border: none;\n",
              "                /* Needs to be in here for Safari polyfill so background images work as expected. */\n",
              "                background-size: auto;\n",
              "            }\n",
              "            .progress-bar-interrupted, .progress-bar-interrupted::-webkit-progress-bar {\n",
              "                background: #F44336;\n",
              "            }\n",
              "        </style>\n",
              "      <progress value='1000' class='' max='1000' style='width:300px; height:20px; vertical-align: middle;'></progress>\n",
              "      100.00% [1000/1000 00:01<00:00]\n",
              "    </div>\n",
              "    "
            ],
            "text/plain": [
              "<IPython.core.display.HTML object>"
            ]
          },
          "metadata": {
            "tags": []
          }
        }
      ]
    },
    {
      "cell_type": "code",
      "metadata": {
        "id": "okbAfMELX9QB",
        "colab": {
          "base_uri": "https://localhost:8080/",
          "height": 368
        },
        "outputId": "1a412fab-1d82-4e10-be80-dabd11576ee6"
      },
      "source": [
        "height_hpd = az.hdi(pred['height'])\n",
        "az.plot_hpd(weight_18, pred['height'])\n",
        "plt.scatter(weight_18, height_18)\n",
        "plt.xlabel('weight')\n",
        "plt.ylabel('height')\n",
        "plt.xlim(weight_18.min(), weight_18.max());"
      ],
      "execution_count": null,
      "outputs": [
        {
          "output_type": "stream",
          "text": [
            "/usr/local/lib/python3.6/dist-packages/arviz/stats/stats.py:486: FutureWarning: hdi currently interprets 2d data as (draw, shape) but this will change in a future release to (chain, draw) for coherence with other functions\n",
            "  FutureWarning,\n"
          ],
          "name": "stderr"
        },
        {
          "output_type": "display_data",
          "data": {
            "image/png": "[encoded data removed]",
            "text/plain": [
              "<Figure size 432x288 with 1 Axes>"
            ]
          },
          "metadata": {
            "tags": []
          }
        }
      ]
    },
    {
      "cell_type": "markdown",
      "metadata": {
        "id": "l9SGs1Fka4Uo"
      },
      "source": [
        "#4H3"
      ]
    },
    {
      "cell_type": "markdown",
      "metadata": {
        "id": "9D9SgisjZNKu"
      },
      "source": [
        "Задание с логарифмами и таким распределением\n",
        "\n",
        "\n",
        "$h_i ∼ Normal(\\mu_i,\\sigma)$\n",
        "\n",
        "$\\mu_i = \\alpha + \\beta* \\log(w_i) $\n",
        "\n",
        "$\\alpha ∼𝑁𝑜𝑟𝑚𝑎𝑙(178,100)$\n",
        "\n",
        "$\\beta ∼ Normal(0,100)$\n",
        "\n",
        "$𝜎∼𝑈𝑛𝑖𝑓𝑜𝑟𝑚(0,50)  $\n"
      ]
    },
    {
      "cell_type": "code",
      "metadata": {
        "id": "fZbdqdG7YWPu",
        "colab": {
          "base_uri": "https://localhost:8080/",
          "height": 145
        },
        "outputId": "f2d36dac-6e6e-4a63-9235-f43b7ba3f93d"
      },
      "source": [
        "with pm.Model() as under_18_log:\n",
        "    alpha = pm.Normal('alpha', mu=178, sd=100)\n",
        "    beta = pm.Normal('beta', mu=0, sd=100)\n",
        "    sigma = pm.Uniform('sigma', lower=0, upper=50)\n",
        "    mu = pm.Deterministic('mu', alpha + beta * np.log(weight_18))\n",
        "    height = pm.Normal('height', mu=mu, sd=sigma, observed=height_18)\n",
        "    trace_log = pm.sample(2000, tune=2000)"
      ],
      "execution_count": null,
      "outputs": [
        {
          "output_type": "stream",
          "text": [
            "Auto-assigning NUTS sampler...\n",
            "Initializing NUTS using jitter+adapt_diag...\n",
            "Sequential sampling (2 chains in 1 job)\n",
            "NUTS: [sigma, beta, alpha]\n"
          ],
          "name": "stderr"
        },
        {
          "output_type": "display_data",
          "data": {
            "text/html": [
              "\n",
              "    <div>\n",
              "        <style>\n",
              "            /* Turns off some styling */\n",
              "            progress {\n",
              "                /* gets rid of default border in Firefox and Opera. */\n",
              "                border: none;\n",
              "                /* Needs to be in here for Safari polyfill so background images work as expected. */\n",
              "                background-size: auto;\n",
              "            }\n",
              "            .progress-bar-interrupted, .progress-bar-interrupted::-webkit-progress-bar {\n",
              "                background: #F44336;\n",
              "            }\n",
              "        </style>\n",
              "      <progress value='4000' class='' max='4000' style='width:300px; height:20px; vertical-align: middle;'></progress>\n",
              "      100.00% [4000/4000 00:10<00:00 Sampling chain 0, 0 divergences]\n",
              "    </div>\n",
              "    "
            ],
            "text/plain": [
              "<IPython.core.display.HTML object>"
            ]
          },
          "metadata": {
            "tags": []
          }
        },
        {
          "output_type": "display_data",
          "data": {
            "text/html": [
              "\n",
              "    <div>\n",
              "        <style>\n",
              "            /* Turns off some styling */\n",
              "            progress {\n",
              "                /* gets rid of default border in Firefox and Opera. */\n",
              "                border: none;\n",
              "                /* Needs to be in here for Safari polyfill so background images work as expected. */\n",
              "                background-size: auto;\n",
              "            }\n",
              "            .progress-bar-interrupted, .progress-bar-interrupted::-webkit-progress-bar {\n",
              "                background: #F44336;\n",
              "            }\n",
              "        </style>\n",
              "      <progress value='4000' class='' max='4000' style='width:300px; height:20px; vertical-align: middle;'></progress>\n",
              "      100.00% [4000/4000 00:09<00:00 Sampling chain 1, 0 divergences]\n",
              "    </div>\n",
              "    "
            ],
            "text/plain": [
              "<IPython.core.display.HTML object>"
            ]
          },
          "metadata": {
            "tags": []
          }
        },
        {
          "output_type": "stream",
          "text": [
            "Sampling 2 chains for 2_000 tune and 2_000 draw iterations (4_000 + 4_000 draws total) took 20 seconds.\n"
          ],
          "name": "stderr"
        }
      ]
    },
    {
      "cell_type": "code",
      "metadata": {
        "id": "PCRxyWUzcA-F",
        "colab": {
          "base_uri": "https://localhost:8080/",
          "height": 193
        },
        "outputId": "bf7e1395-f60b-49df-8c8d-80565789df49"
      },
      "source": [
        "az.summary(trace_log, var_names=[\"~mu\"])"
      ],
      "execution_count": null,
      "outputs": [
        {
          "output_type": "stream",
          "text": [
            "/usr/local/lib/python3.6/dist-packages/arviz/data/io_pymc3.py:89: FutureWarning: Using `from_pymc3` without the model will be deprecated in a future release. Not using the model will return less accurate and less useful results. Make sure you use the model argument or call from_pymc3 within a model context.\n",
            "  FutureWarning,\n"
          ],
          "name": "stderr"
        },
        {
          "output_type": "execute_result",
          "data": {
            "text/html": [
              "<div>\n",
              "<style scoped>\n",
              "    .dataframe tbody tr th:only-of-type {\n",
              "        vertical-align: middle;\n",
              "    }\n",
              "\n",
              "    .dataframe tbody tr th {\n",
              "        vertical-align: top;\n",
              "    }\n",
              "\n",
              "    .dataframe thead th {\n",
              "        text-align: right;\n",
              "    }\n",
              "</style>\n",
              "<table border=\"1\" class=\"dataframe\">\n",
              "  <thead>\n",
              "    <tr style=\"text-align: right;\">\n",
              "      <th></th>\n",
              "      <th>mean</th>\n",
              "      <th>sd</th>\n",
              "      <th>hdi_3%</th>\n",
              "      <th>hdi_97%</th>\n",
              "      <th>mcse_mean</th>\n",
              "      <th>mcse_sd</th>\n",
              "      <th>ess_mean</th>\n",
              "      <th>ess_sd</th>\n",
              "      <th>ess_bulk</th>\n",
              "      <th>ess_tail</th>\n",
              "      <th>r_hat</th>\n",
              "    </tr>\n",
              "  </thead>\n",
              "  <tbody>\n",
              "    <tr>\n",
              "      <th>alpha</th>\n",
              "      <td>-32.775</td>\n",
              "      <td>1.939</td>\n",
              "      <td>-36.411</td>\n",
              "      <td>-28.989</td>\n",
              "      <td>0.060</td>\n",
              "      <td>0.043</td>\n",
              "      <td>1030.0</td>\n",
              "      <td>1030.0</td>\n",
              "      <td>1041.0</td>\n",
              "      <td>1096.0</td>\n",
              "      <td>1.0</td>\n",
              "    </tr>\n",
              "    <tr>\n",
              "      <th>beta</th>\n",
              "      <td>50.504</td>\n",
              "      <td>0.681</td>\n",
              "      <td>49.267</td>\n",
              "      <td>51.879</td>\n",
              "      <td>0.021</td>\n",
              "      <td>0.015</td>\n",
              "      <td>1036.0</td>\n",
              "      <td>1036.0</td>\n",
              "      <td>1048.0</td>\n",
              "      <td>1121.0</td>\n",
              "      <td>1.0</td>\n",
              "    </tr>\n",
              "    <tr>\n",
              "      <th>sigma</th>\n",
              "      <td>4.701</td>\n",
              "      <td>0.242</td>\n",
              "      <td>4.248</td>\n",
              "      <td>5.160</td>\n",
              "      <td>0.006</td>\n",
              "      <td>0.004</td>\n",
              "      <td>1912.0</td>\n",
              "      <td>1903.0</td>\n",
              "      <td>1915.0</td>\n",
              "      <td>1564.0</td>\n",
              "      <td>1.0</td>\n",
              "    </tr>\n",
              "  </tbody>\n",
              "</table>\n",
              "</div>"
            ],
            "text/plain": [
              "         mean     sd  hdi_3%  hdi_97%  ...  ess_sd  ess_bulk  ess_tail  r_hat\n",
              "alpha -32.775  1.939 -36.411  -28.989  ...  1030.0    1041.0    1096.0    1.0\n",
              "beta   50.504  0.681  49.267   51.879  ...  1036.0    1048.0    1121.0    1.0\n",
              "sigma   4.701  0.242   4.248    5.160  ...  1903.0    1915.0    1564.0    1.0\n",
              "\n",
              "[3 rows x 11 columns]"
            ]
          },
          "metadata": {
            "tags": []
          },
          "execution_count": 36
        }
      ]
    },
    {
      "cell_type": "markdown",
      "metadata": {
        "id": "gIlusOvwcc1z"
      },
      "source": [
        "теперь дети растут на 50 см в килограмм"
      ]
    },
    {
      "cell_type": "code",
      "metadata": {
        "id": "OhomrSXPclM2",
        "colab": {
          "base_uri": "https://localhost:8080/",
          "height": 460
        },
        "outputId": "d56587dc-9a92-4078-cbb7-59834eb1273a"
      },
      "source": [
        "log = pm.sample_posterior_predictive(trace_log, 1000, under_18_log)\n",
        "\n",
        "height_pred_hpd = az.hpd(log['height'])\n",
        "az.plot_hpd(weight_18, log['height'])\n",
        "plt.scatter(weight_18, height_18)\n",
        "plt.xlabel('weight')\n",
        "plt.ylabel('height')\n",
        "plt.xlim(weight_18.min(), weight_18.max());"
      ],
      "execution_count": null,
      "outputs": [
        {
          "output_type": "stream",
          "text": [
            "/usr/local/lib/python3.6/dist-packages/pymc3/sampling.py:1618: UserWarning: samples parameter is smaller than nchains times ndraws, some draws and/or chains may not be represented in the returned posterior predictive sample\n",
            "  \"samples parameter is smaller than nchains times ndraws, some draws \"\n"
          ],
          "name": "stderr"
        },
        {
          "output_type": "display_data",
          "data": {
            "text/html": [
              "\n",
              "    <div>\n",
              "        <style>\n",
              "            /* Turns off some styling */\n",
              "            progress {\n",
              "                /* gets rid of default border in Firefox and Opera. */\n",
              "                border: none;\n",
              "                /* Needs to be in here for Safari polyfill so background images work as expected. */\n",
              "                background-size: auto;\n",
              "            }\n",
              "            .progress-bar-interrupted, .progress-bar-interrupted::-webkit-progress-bar {\n",
              "                background: #F44336;\n",
              "            }\n",
              "        </style>\n",
              "      <progress value='1000' class='' max='1000' style='width:300px; height:20px; vertical-align: middle;'></progress>\n",
              "      100.00% [1000/1000 00:01<00:00]\n",
              "    </div>\n",
              "    "
            ],
            "text/plain": [
              "<IPython.core.display.HTML object>"
            ]
          },
          "metadata": {
            "tags": []
          }
        },
        {
          "output_type": "stream",
          "text": [
            "/usr/local/lib/python3.6/dist-packages/arviz/stats/stats.py:338: UserWarning: hpd will be deprecated Please replace hdi\n",
            "  warnings.warn((\"hpd will be deprecated \" \"Please replace hdi\"),)\n",
            "/usr/local/lib/python3.6/dist-packages/arviz/stats/stats.py:486: FutureWarning: hdi currently interprets 2d data as (draw, shape) but this will change in a future release to (chain, draw) for coherence with other functions\n",
            "  FutureWarning,\n"
          ],
          "name": "stderr"
        },
        {
          "output_type": "display_data",
          "data": {
            "image/png": "[encoded data removed]",
            "text/plain": [
              "<Figure size 432x288 with 1 Axes>"
            ]
          },
          "metadata": {
            "tags": []
          }
        }
      ]
    },
    {
      "cell_type": "markdown",
      "metadata": {
        "id": "hkzymwiKdMfH"
      },
      "source": [
        "похоже эта модель и правда подходит лучше"
      ]
    },
    {
      "cell_type": "code",
      "metadata": {
        "id": "KCvhDOyddE3u"
      },
      "source": [
        ""
      ],
      "execution_count": null,
      "outputs": []
    }
  ]
}