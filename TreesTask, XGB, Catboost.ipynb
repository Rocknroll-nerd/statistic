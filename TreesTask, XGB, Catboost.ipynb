{
  "nbformat": 4,
  "nbformat_minor": 0,
  "metadata": {
    "kernelspec": {
      "display_name": "PyEnv 3.6",
      "language": "python",
      "name": "pyenv3.6"
    },
    "language_info": {
      "codemirror_mode": {
        "name": "ipython",
        "version": 3
      },
      "file_extension": ".py",
      "mimetype": "text/x-python",
      "name": "python",
      "nbconvert_exporter": "python",
      "pygments_lexer": "ipython3",
      "version": "3.6.6"
    },
    "colab": {
      "name": "Kochedykova_TreesTask.ipynb",
      "provenance": [],
      "collapsed_sections": [
        "v33MVkhZlzWi",
        "Cm97vt7jlzWv",
        "3N4ygIxEoV_f"
      ],
      "include_colab_link": true
    }
  },
  "cells": [
    {
      "cell_type": "markdown",
      "metadata": {
        "id": "view-in-github",
        "colab_type": "text"
      },
      "source": [
        "<a href=\"https://colab.research.google.com/github/Rocknroll-nerd/statistic/blob/main/TreesTask%2C%20XGB%2C%20Catboost.ipynb\" target=\"_parent\"><img src=\"https://colab.research.google.com/assets/colab-badge.svg\" alt=\"Open In Colab\"/></a>"
      ]
    },
    {
      "cell_type": "code",
      "metadata": {
        "id": "G7o2OH9DlzWW"
      },
      "source": [
        "from sklearn import ensemble, model_selection, metrics \n",
        "\n",
        "import numpy as np\n",
        "import pandas as pd\n",
        "import xgboost as xgb\n",
        "from matplotlib import pyplot as plt\n",
        "%matplotlib inline"
      ],
      "execution_count": null,
      "outputs": []
    },
    {
      "cell_type": "markdown",
      "metadata": {
        "id": "IzjbvBVAlzWa"
      },
      "source": [
        "## Строим модели, основанные на деревьях:  смотрим random forest и xgboost \n",
        "\n",
        "Задача на kaggle: https://www.kaggle.com/c/bioresponse\n",
        "\n",
        "Данные: https://www.kaggle.com/c/bioresponse/data\n",
        "\n",
        "По данным характеристикам молекулы требуется определить, будет ли дан биологический ответ (biological response).\n",
        "\n",
        "Признаки нормализаваны."
      ]
    },
    {
      "cell_type": "code",
      "metadata": {
        "id": "04bU5KfDl_T7",
        "colab": {
          "base_uri": "https://localhost:8080/",
          "height": 54
        },
        "outputId": "e0ede4e0-6c16-4547-cafb-2c0d2bdc014e"
      },
      "source": [
        "from google.colab import drive\n",
        "drive.mount('/content/gdrive')\n",
        "%cd /content/gdrive/My\\ Drive/\n",
        "from pathlib import Path\n",
        "CLAS_PATH=Path('datasets')\n",
        "CLAS_PATH.mkdir(exist_ok=True)"
      ],
      "execution_count": null,
      "outputs": [
        {
          "output_type": "stream",
          "text": [
            "Drive already mounted at /content/gdrive; to attempt to forcibly remount, call drive.mount(\"/content/gdrive\", force_remount=True).\n",
            "/content/gdrive/My Drive\n"
          ],
          "name": "stdout"
        }
      ]
    },
    {
      "cell_type": "code",
      "metadata": {
        "id": "7XtHjaY_lzWa"
      },
      "source": [
        "bioresponce = pd.read_csv('datasets/bioresponse.csv', header=0, sep=',')"
      ],
      "execution_count": null,
      "outputs": []
    },
    {
      "cell_type": "code",
      "metadata": {
        "id": "e7Hwa81ilzWc",
        "colab": {
          "base_uri": "https://localhost:8080/",
          "height": 247
        },
        "outputId": "b2daa7c8-44a9-48f9-86b7-7705f1638d13"
      },
      "source": [
        "#Посмотрите на данные\n",
        "bioresponce.head()"
      ],
      "execution_count": null,
      "outputs": [
        {
          "output_type": "execute_result",
          "data": {
            "text/html": [
              "<div>\n",
              "<style scoped>\n",
              "    .dataframe tbody tr th:only-of-type {\n",
              "        vertical-align: middle;\n",
              "    }\n",
              "\n",
              "    .dataframe tbody tr th {\n",
              "        vertical-align: top;\n",
              "    }\n",
              "\n",
              "    .dataframe thead th {\n",
              "        text-align: right;\n",
              "    }\n",
              "</style>\n",
              "<table border=\"1\" class=\"dataframe\">\n",
              "  <thead>\n",
              "    <tr style=\"text-align: right;\">\n",
              "      <th></th>\n",
              "      <th>Activity</th>\n",
              "      <th>D1</th>\n",
              "      <th>D2</th>\n",
              "      <th>D3</th>\n",
              "      <th>D4</th>\n",
              "      <th>D5</th>\n",
              "      <th>D6</th>\n",
              "      <th>D7</th>\n",
              "      <th>D8</th>\n",
              "      <th>D9</th>\n",
              "      <th>D10</th>\n",
              "      <th>D11</th>\n",
              "      <th>D12</th>\n",
              "      <th>D13</th>\n",
              "      <th>D14</th>\n",
              "      <th>D15</th>\n",
              "      <th>D16</th>\n",
              "      <th>D17</th>\n",
              "      <th>D18</th>\n",
              "      <th>D19</th>\n",
              "      <th>D20</th>\n",
              "      <th>D21</th>\n",
              "      <th>D22</th>\n",
              "      <th>D23</th>\n",
              "      <th>D24</th>\n",
              "      <th>D25</th>\n",
              "      <th>D26</th>\n",
              "      <th>D27</th>\n",
              "      <th>D28</th>\n",
              "      <th>D29</th>\n",
              "      <th>D30</th>\n",
              "      <th>D31</th>\n",
              "      <th>D32</th>\n",
              "      <th>D33</th>\n",
              "      <th>D34</th>\n",
              "      <th>D35</th>\n",
              "      <th>D36</th>\n",
              "      <th>D37</th>\n",
              "      <th>D38</th>\n",
              "      <th>D39</th>\n",
              "      <th>...</th>\n",
              "      <th>D1737</th>\n",
              "      <th>D1738</th>\n",
              "      <th>D1739</th>\n",
              "      <th>D1740</th>\n",
              "      <th>D1741</th>\n",
              "      <th>D1742</th>\n",
              "      <th>D1743</th>\n",
              "      <th>D1744</th>\n",
              "      <th>D1745</th>\n",
              "      <th>D1746</th>\n",
              "      <th>D1747</th>\n",
              "      <th>D1748</th>\n",
              "      <th>D1749</th>\n",
              "      <th>D1750</th>\n",
              "      <th>D1751</th>\n",
              "      <th>D1752</th>\n",
              "      <th>D1753</th>\n",
              "      <th>D1754</th>\n",
              "      <th>D1755</th>\n",
              "      <th>D1756</th>\n",
              "      <th>D1757</th>\n",
              "      <th>D1758</th>\n",
              "      <th>D1759</th>\n",
              "      <th>D1760</th>\n",
              "      <th>D1761</th>\n",
              "      <th>D1762</th>\n",
              "      <th>D1763</th>\n",
              "      <th>D1764</th>\n",
              "      <th>D1765</th>\n",
              "      <th>D1766</th>\n",
              "      <th>D1767</th>\n",
              "      <th>D1768</th>\n",
              "      <th>D1769</th>\n",
              "      <th>D1770</th>\n",
              "      <th>D1771</th>\n",
              "      <th>D1772</th>\n",
              "      <th>D1773</th>\n",
              "      <th>D1774</th>\n",
              "      <th>D1775</th>\n",
              "      <th>D1776</th>\n",
              "    </tr>\n",
              "  </thead>\n",
              "  <tbody>\n",
              "    <tr>\n",
              "      <th>0</th>\n",
              "      <td>1</td>\n",
              "      <td>0.000000</td>\n",
              "      <td>0.497009</td>\n",
              "      <td>0.10</td>\n",
              "      <td>0.0</td>\n",
              "      <td>0.132956</td>\n",
              "      <td>0.678031</td>\n",
              "      <td>0.273166</td>\n",
              "      <td>0.585445</td>\n",
              "      <td>0.743663</td>\n",
              "      <td>0.243144</td>\n",
              "      <td>0.187856</td>\n",
              "      <td>0.0000</td>\n",
              "      <td>0.000000</td>\n",
              "      <td>0.069000</td>\n",
              "      <td>0.362012</td>\n",
              "      <td>0.301773</td>\n",
              "      <td>0.597930</td>\n",
              "      <td>0.190813</td>\n",
              "      <td>0.107219</td>\n",
              "      <td>0.070500</td>\n",
              "      <td>0.00717</td>\n",
              "      <td>0.137931</td>\n",
              "      <td>1</td>\n",
              "      <td>0.00</td>\n",
              "      <td>0.496683</td>\n",
              "      <td>0.753131</td>\n",
              "      <td>1</td>\n",
              "      <td>1</td>\n",
              "      <td>0.000000</td>\n",
              "      <td>0.262919</td>\n",
              "      <td>0.077200</td>\n",
              "      <td>0.082700</td>\n",
              "      <td>0.200590</td>\n",
              "      <td>0.00000</td>\n",
              "      <td>0.000000</td>\n",
              "      <td>0.0</td>\n",
              "      <td>0.0</td>\n",
              "      <td>0.162383</td>\n",
              "      <td>0.150153</td>\n",
              "      <td>...</td>\n",
              "      <td>0</td>\n",
              "      <td>0</td>\n",
              "      <td>0</td>\n",
              "      <td>0</td>\n",
              "      <td>0</td>\n",
              "      <td>0</td>\n",
              "      <td>0</td>\n",
              "      <td>0</td>\n",
              "      <td>0</td>\n",
              "      <td>0</td>\n",
              "      <td>0</td>\n",
              "      <td>0</td>\n",
              "      <td>0</td>\n",
              "      <td>0</td>\n",
              "      <td>0</td>\n",
              "      <td>0</td>\n",
              "      <td>0</td>\n",
              "      <td>0</td>\n",
              "      <td>0</td>\n",
              "      <td>0</td>\n",
              "      <td>0</td>\n",
              "      <td>0</td>\n",
              "      <td>0</td>\n",
              "      <td>0</td>\n",
              "      <td>0</td>\n",
              "      <td>0</td>\n",
              "      <td>0</td>\n",
              "      <td>0</td>\n",
              "      <td>0</td>\n",
              "      <td>0</td>\n",
              "      <td>0</td>\n",
              "      <td>0</td>\n",
              "      <td>0</td>\n",
              "      <td>0</td>\n",
              "      <td>0</td>\n",
              "      <td>0</td>\n",
              "      <td>0</td>\n",
              "      <td>0</td>\n",
              "      <td>0</td>\n",
              "      <td>0</td>\n",
              "    </tr>\n",
              "    <tr>\n",
              "      <th>1</th>\n",
              "      <td>1</td>\n",
              "      <td>0.366667</td>\n",
              "      <td>0.606291</td>\n",
              "      <td>0.05</td>\n",
              "      <td>0.0</td>\n",
              "      <td>0.111209</td>\n",
              "      <td>0.803455</td>\n",
              "      <td>0.106105</td>\n",
              "      <td>0.411754</td>\n",
              "      <td>0.836582</td>\n",
              "      <td>0.106480</td>\n",
              "      <td>0.101382</td>\n",
              "      <td>0.1875</td>\n",
              "      <td>0.193548</td>\n",
              "      <td>0.131001</td>\n",
              "      <td>0.350206</td>\n",
              "      <td>0.187419</td>\n",
              "      <td>0.762669</td>\n",
              "      <td>0.180473</td>\n",
              "      <td>0.329962</td>\n",
              "      <td>0.107681</td>\n",
              "      <td>0.01950</td>\n",
              "      <td>0.206897</td>\n",
              "      <td>0</td>\n",
              "      <td>0.75</td>\n",
              "      <td>0.449869</td>\n",
              "      <td>0.720484</td>\n",
              "      <td>0</td>\n",
              "      <td>0</td>\n",
              "      <td>0.666667</td>\n",
              "      <td>0.099400</td>\n",
              "      <td>0.289240</td>\n",
              "      <td>0.216710</td>\n",
              "      <td>0.100295</td>\n",
              "      <td>0.16958</td>\n",
              "      <td>0.235294</td>\n",
              "      <td>0.0</td>\n",
              "      <td>0.0</td>\n",
              "      <td>0.119104</td>\n",
              "      <td>0.075100</td>\n",
              "      <td>...</td>\n",
              "      <td>0</td>\n",
              "      <td>1</td>\n",
              "      <td>1</td>\n",
              "      <td>0</td>\n",
              "      <td>0</td>\n",
              "      <td>0</td>\n",
              "      <td>1</td>\n",
              "      <td>1</td>\n",
              "      <td>0</td>\n",
              "      <td>1</td>\n",
              "      <td>0</td>\n",
              "      <td>0</td>\n",
              "      <td>1</td>\n",
              "      <td>0</td>\n",
              "      <td>1</td>\n",
              "      <td>1</td>\n",
              "      <td>1</td>\n",
              "      <td>0</td>\n",
              "      <td>0</td>\n",
              "      <td>0</td>\n",
              "      <td>1</td>\n",
              "      <td>0</td>\n",
              "      <td>0</td>\n",
              "      <td>0</td>\n",
              "      <td>1</td>\n",
              "      <td>0</td>\n",
              "      <td>1</td>\n",
              "      <td>1</td>\n",
              "      <td>0</td>\n",
              "      <td>0</td>\n",
              "      <td>1</td>\n",
              "      <td>1</td>\n",
              "      <td>1</td>\n",
              "      <td>1</td>\n",
              "      <td>0</td>\n",
              "      <td>1</td>\n",
              "      <td>0</td>\n",
              "      <td>0</td>\n",
              "      <td>1</td>\n",
              "      <td>0</td>\n",
              "    </tr>\n",
              "    <tr>\n",
              "      <th>2</th>\n",
              "      <td>1</td>\n",
              "      <td>0.033300</td>\n",
              "      <td>0.480124</td>\n",
              "      <td>0.00</td>\n",
              "      <td>0.0</td>\n",
              "      <td>0.209791</td>\n",
              "      <td>0.610350</td>\n",
              "      <td>0.356453</td>\n",
              "      <td>0.517720</td>\n",
              "      <td>0.679051</td>\n",
              "      <td>0.352308</td>\n",
              "      <td>0.193548</td>\n",
              "      <td>0.1250</td>\n",
              "      <td>0.000000</td>\n",
              "      <td>0.068900</td>\n",
              "      <td>0.574628</td>\n",
              "      <td>0.283327</td>\n",
              "      <td>0.510633</td>\n",
              "      <td>0.184480</td>\n",
              "      <td>0.073300</td>\n",
              "      <td>0.061600</td>\n",
              "      <td>0.00566</td>\n",
              "      <td>0.000000</td>\n",
              "      <td>1</td>\n",
              "      <td>0.00</td>\n",
              "      <td>0.486610</td>\n",
              "      <td>0.803577</td>\n",
              "      <td>0</td>\n",
              "      <td>1</td>\n",
              "      <td>0.000000</td>\n",
              "      <td>0.428659</td>\n",
              "      <td>0.032400</td>\n",
              "      <td>0.072400</td>\n",
              "      <td>0.000000</td>\n",
              "      <td>0.03930</td>\n",
              "      <td>0.000000</td>\n",
              "      <td>0.0</td>\n",
              "      <td>0.0</td>\n",
              "      <td>0.076100</td>\n",
              "      <td>0.225229</td>\n",
              "      <td>...</td>\n",
              "      <td>0</td>\n",
              "      <td>0</td>\n",
              "      <td>0</td>\n",
              "      <td>0</td>\n",
              "      <td>0</td>\n",
              "      <td>0</td>\n",
              "      <td>0</td>\n",
              "      <td>0</td>\n",
              "      <td>0</td>\n",
              "      <td>0</td>\n",
              "      <td>0</td>\n",
              "      <td>0</td>\n",
              "      <td>0</td>\n",
              "      <td>0</td>\n",
              "      <td>0</td>\n",
              "      <td>0</td>\n",
              "      <td>0</td>\n",
              "      <td>0</td>\n",
              "      <td>0</td>\n",
              "      <td>0</td>\n",
              "      <td>0</td>\n",
              "      <td>0</td>\n",
              "      <td>0</td>\n",
              "      <td>0</td>\n",
              "      <td>0</td>\n",
              "      <td>0</td>\n",
              "      <td>0</td>\n",
              "      <td>0</td>\n",
              "      <td>0</td>\n",
              "      <td>0</td>\n",
              "      <td>0</td>\n",
              "      <td>0</td>\n",
              "      <td>0</td>\n",
              "      <td>0</td>\n",
              "      <td>0</td>\n",
              "      <td>0</td>\n",
              "      <td>0</td>\n",
              "      <td>0</td>\n",
              "      <td>0</td>\n",
              "      <td>0</td>\n",
              "    </tr>\n",
              "    <tr>\n",
              "      <th>3</th>\n",
              "      <td>1</td>\n",
              "      <td>0.000000</td>\n",
              "      <td>0.538825</td>\n",
              "      <td>0.00</td>\n",
              "      <td>0.5</td>\n",
              "      <td>0.196344</td>\n",
              "      <td>0.724230</td>\n",
              "      <td>0.235606</td>\n",
              "      <td>0.288764</td>\n",
              "      <td>0.805110</td>\n",
              "      <td>0.208989</td>\n",
              "      <td>0.000000</td>\n",
              "      <td>0.0000</td>\n",
              "      <td>0.000000</td>\n",
              "      <td>0.145947</td>\n",
              "      <td>0.584688</td>\n",
              "      <td>0.325247</td>\n",
              "      <td>0.496745</td>\n",
              "      <td>0.242288</td>\n",
              "      <td>0.087700</td>\n",
              "      <td>0.075300</td>\n",
              "      <td>0.01680</td>\n",
              "      <td>0.000000</td>\n",
              "      <td>1</td>\n",
              "      <td>0.00</td>\n",
              "      <td>0.459122</td>\n",
              "      <td>0.829482</td>\n",
              "      <td>0</td>\n",
              "      <td>1</td>\n",
              "      <td>0.000000</td>\n",
              "      <td>0.435410</td>\n",
              "      <td>0.118562</td>\n",
              "      <td>0.000000</td>\n",
              "      <td>0.000000</td>\n",
              "      <td>0.00000</td>\n",
              "      <td>0.000000</td>\n",
              "      <td>0.0</td>\n",
              "      <td>0.0</td>\n",
              "      <td>0.068900</td>\n",
              "      <td>0.000000</td>\n",
              "      <td>...</td>\n",
              "      <td>0</td>\n",
              "      <td>0</td>\n",
              "      <td>0</td>\n",
              "      <td>0</td>\n",
              "      <td>0</td>\n",
              "      <td>0</td>\n",
              "      <td>0</td>\n",
              "      <td>0</td>\n",
              "      <td>0</td>\n",
              "      <td>0</td>\n",
              "      <td>0</td>\n",
              "      <td>0</td>\n",
              "      <td>0</td>\n",
              "      <td>0</td>\n",
              "      <td>0</td>\n",
              "      <td>0</td>\n",
              "      <td>0</td>\n",
              "      <td>0</td>\n",
              "      <td>0</td>\n",
              "      <td>0</td>\n",
              "      <td>0</td>\n",
              "      <td>0</td>\n",
              "      <td>0</td>\n",
              "      <td>0</td>\n",
              "      <td>0</td>\n",
              "      <td>0</td>\n",
              "      <td>0</td>\n",
              "      <td>0</td>\n",
              "      <td>0</td>\n",
              "      <td>0</td>\n",
              "      <td>0</td>\n",
              "      <td>0</td>\n",
              "      <td>0</td>\n",
              "      <td>0</td>\n",
              "      <td>0</td>\n",
              "      <td>0</td>\n",
              "      <td>0</td>\n",
              "      <td>0</td>\n",
              "      <td>0</td>\n",
              "      <td>0</td>\n",
              "    </tr>\n",
              "    <tr>\n",
              "      <th>4</th>\n",
              "      <td>0</td>\n",
              "      <td>0.100000</td>\n",
              "      <td>0.517794</td>\n",
              "      <td>0.00</td>\n",
              "      <td>0.0</td>\n",
              "      <td>0.494734</td>\n",
              "      <td>0.781422</td>\n",
              "      <td>0.154361</td>\n",
              "      <td>0.303809</td>\n",
              "      <td>0.812646</td>\n",
              "      <td>0.125177</td>\n",
              "      <td>0.532258</td>\n",
              "      <td>0.0000</td>\n",
              "      <td>0.000000</td>\n",
              "      <td>0.094900</td>\n",
              "      <td>0.540323</td>\n",
              "      <td>0.116775</td>\n",
              "      <td>0.552982</td>\n",
              "      <td>0.167897</td>\n",
              "      <td>0.116140</td>\n",
              "      <td>0.054200</td>\n",
              "      <td>0.01350</td>\n",
              "      <td>0.103448</td>\n",
              "      <td>1</td>\n",
              "      <td>0.00</td>\n",
              "      <td>0.381883</td>\n",
              "      <td>0.913374</td>\n",
              "      <td>0</td>\n",
              "      <td>1</td>\n",
              "      <td>0.000000</td>\n",
              "      <td>0.305333</td>\n",
              "      <td>0.054100</td>\n",
              "      <td>0.170822</td>\n",
              "      <td>0.000000</td>\n",
              "      <td>0.00000</td>\n",
              "      <td>0.176471</td>\n",
              "      <td>0.0</td>\n",
              "      <td>0.0</td>\n",
              "      <td>0.019900</td>\n",
              "      <td>0.057400</td>\n",
              "      <td>...</td>\n",
              "      <td>0</td>\n",
              "      <td>0</td>\n",
              "      <td>0</td>\n",
              "      <td>0</td>\n",
              "      <td>0</td>\n",
              "      <td>0</td>\n",
              "      <td>0</td>\n",
              "      <td>0</td>\n",
              "      <td>0</td>\n",
              "      <td>0</td>\n",
              "      <td>0</td>\n",
              "      <td>0</td>\n",
              "      <td>0</td>\n",
              "      <td>0</td>\n",
              "      <td>0</td>\n",
              "      <td>0</td>\n",
              "      <td>0</td>\n",
              "      <td>0</td>\n",
              "      <td>0</td>\n",
              "      <td>0</td>\n",
              "      <td>0</td>\n",
              "      <td>0</td>\n",
              "      <td>0</td>\n",
              "      <td>0</td>\n",
              "      <td>0</td>\n",
              "      <td>0</td>\n",
              "      <td>0</td>\n",
              "      <td>0</td>\n",
              "      <td>0</td>\n",
              "      <td>0</td>\n",
              "      <td>0</td>\n",
              "      <td>0</td>\n",
              "      <td>0</td>\n",
              "      <td>0</td>\n",
              "      <td>0</td>\n",
              "      <td>0</td>\n",
              "      <td>0</td>\n",
              "      <td>0</td>\n",
              "      <td>0</td>\n",
              "      <td>0</td>\n",
              "    </tr>\n",
              "  </tbody>\n",
              "</table>\n",
              "<p>5 rows × 1777 columns</p>\n",
              "</div>"
            ],
            "text/plain": [
              "   Activity        D1        D2    D3   D4  ...  D1772  D1773  D1774  D1775  D1776\n",
              "0         1  0.000000  0.497009  0.10  0.0  ...      0      0      0      0      0\n",
              "1         1  0.366667  0.606291  0.05  0.0  ...      1      0      0      1      0\n",
              "2         1  0.033300  0.480124  0.00  0.0  ...      0      0      0      0      0\n",
              "3         1  0.000000  0.538825  0.00  0.5  ...      0      0      0      0      0\n",
              "4         0  0.100000  0.517794  0.00  0.0  ...      0      0      0      0      0\n",
              "\n",
              "[5 rows x 1777 columns]"
            ]
          },
          "metadata": {
            "tags": []
          },
          "execution_count": 14
        }
      ]
    },
    {
      "cell_type": "code",
      "metadata": {
        "id": "d4_3Q20LlzWg"
      },
      "source": [
        "# Разделите данные на примеры и ответы (ответы в первой колонке)\n",
        "bioresponce_data = bioresponce.iloc[:,1:]\n",
        "bioresponce_target = bioresponce.Activity.values"
      ],
      "execution_count": null,
      "outputs": []
    },
    {
      "cell_type": "markdown",
      "metadata": {
        "id": "v33MVkhZlzWi"
      },
      "source": [
        "## Модель RandomForestClassifier"
      ]
    },
    {
      "cell_type": "code",
      "metadata": {
        "id": "rCD7-Z3AlzWl"
      },
      "source": [
        "#инициализируйте классификатор\n",
        "rf_classifier_low_depth = ensemble.RandomForestClassifier(n_estimators = 50, max_depth = 2, random_state = 1)"
      ],
      "execution_count": null,
      "outputs": []
    },
    {
      "cell_type": "markdown",
      "metadata": {
        "id": "r4zIbxKInKYz"
      },
      "source": [
        "### Зафиксируйте число деревьев (например 50) и постройте кривые обучения (что такое кривые обучения?) для деревьев разной глубины\n",
        " \n",
        " используйте кросс-валидацию на 3 фолда, воспользуйтесь model_selection.learning_curve"
      ]
    },
    {
      "cell_type": "code",
      "metadata": {
        "id": "aJVCIiUBlzWn",
        "colab": {
          "base_uri": "https://localhost:8080/",
          "height": 54
        },
        "outputId": "1d99c69a-d575-404d-c250-c7ca9899b693"
      },
      "source": [
        "%%time\n",
        "train_sizes, train_scores, test_scores = model_selection.learning_curve(rf_classifier_low_depth, bioresponce_data, bioresponce_target, \n",
        "                                                                       train_sizes=np.arange(0.1,1., 0.2), \n",
        "                                                                       cv=3, scoring='accuracy')"
      ],
      "execution_count": null,
      "outputs": [
        {
          "output_type": "stream",
          "text": [
            "CPU times: user 2.58 s, sys: 66.1 ms, total: 2.65 s\n",
            "Wall time: 2.66 s\n"
          ],
          "name": "stdout"
        }
      ]
    },
    {
      "cell_type": "code",
      "metadata": {
        "id": "LsFVPw1ylzWp",
        "colab": {
          "base_uri": "https://localhost:8080/",
          "height": 283
        },
        "outputId": "a903446b-8007-443c-d6fb-d95a8ff5df01"
      },
      "source": [
        "# Напечатайте скор в зависимости размера выборки для обучающей и тестовой выборки\n",
        "plt.grid(True)\n",
        "plt.plot(train_sizes, train_scores.mean(axis = 1), 'g-', marker='o', label='train')\n",
        "plt.plot(train_sizes, test_scores.mean(axis = 1), 'r-', marker='o', label='test')\n",
        "plt.ylim((0.0, 1.05))\n",
        "plt.legend(loc='lower right')"
      ],
      "execution_count": null,
      "outputs": [
        {
          "output_type": "execute_result",
          "data": {
            "text/plain": [
              "<matplotlib.legend.Legend at 0x7fa2238b1e48>"
            ]
          },
          "metadata": {
            "tags": []
          },
          "execution_count": 10
        },
        {
          "output_type": "display_data",
          "data": {
            "image/png": "[encoded data removed]",
            "text/plain": [
              "<Figure size 432x288 with 1 Axes>"
            ]
          },
          "metadata": {
            "tags": []
          }
        }
      ]
    },
    {
      "cell_type": "code",
      "metadata": {
        "id": "OoU-094JlzWr",
        "colab": {
          "base_uri": "https://localhost:8080/",
          "height": 283
        },
        "outputId": "98113ca5-2cd3-472e-f363-5cc35b3b15d8"
      },
      "source": [
        "#Постройте графики\n",
        "plt.grid(True)\n",
        "plt.plot(train_sizes, train_scores.mean(axis = 1), 'g-', marker='o', label='train')\n",
        "plt.plot(train_sizes, test_scores.mean(axis = 1), 'r-', marker='o', label='test')\n",
        "plt.ylim((0.0, 1.05))\n",
        "plt.legend(loc='lower right')"
      ],
      "execution_count": null,
      "outputs": [
        {
          "output_type": "execute_result",
          "data": {
            "text/plain": [
              "<matplotlib.legend.Legend at 0x7fa223356ac8>"
            ]
          },
          "metadata": {
            "tags": []
          },
          "execution_count": 11
        },
        {
          "output_type": "display_data",
          "data": {
            "image/png": "[encoded data removed]",
            "text/plain": [
              "<Figure size 432x288 with 1 Axes>"
            ]
          },
          "metadata": {
            "tags": []
          }
        }
      ]
    },
    {
      "cell_type": "code",
      "metadata": {
        "id": "wSqj1W6flzWt"
      },
      "source": [
        "#Увеличьте глубину деревьев, посмотрите как будут меняться кривые?  А потом число деревьев/\n",
        "rf_classifier_depth = ensemble.RandomForestClassifier(n_estimators = 50, max_depth = 4, random_state = 1)\n",
        "rf_classifier_depth_middle = ensemble.RandomForestClassifier(n_estimators = 50, max_depth = 6, random_state = 1)\n",
        "rf_classifier_depth_high = ensemble.RandomForestClassifier(n_estimators = 50, max_depth = 8, random_state = 1)"
      ],
      "execution_count": null,
      "outputs": []
    },
    {
      "cell_type": "code",
      "metadata": {
        "id": "NiDl2RZX0gKs",
        "colab": {
          "base_uri": "https://localhost:8080/",
          "height": 54
        },
        "outputId": "aacdfcb8-c88d-453b-b0e6-eb4cc155b6e2"
      },
      "source": [
        "%%time\n",
        "train_sizes, train_scores, test_scores = model_selection.learning_curve(rf_classifier_depth, bioresponce_data, bioresponce_target, \n",
        "                                                                       train_sizes=np.arange(0.1,1., 0.2), \n",
        "                                                                       cv=3, scoring='accuracy')"
      ],
      "execution_count": null,
      "outputs": [
        {
          "output_type": "stream",
          "text": [
            "CPU times: user 3.33 s, sys: 16.3 ms, total: 3.35 s\n",
            "Wall time: 3.36 s\n"
          ],
          "name": "stdout"
        }
      ]
    },
    {
      "cell_type": "code",
      "metadata": {
        "id": "QYo4UiYl0qNU",
        "colab": {
          "base_uri": "https://localhost:8080/",
          "height": 265
        },
        "outputId": "c241cf5f-f335-4367-d371-27d5ed24b401"
      },
      "source": [
        "def plot_tree():\n",
        "  plt.grid(True)\n",
        "  plt.plot(train_sizes, train_scores.mean(axis = 1), 'g-', marker='o', label='train')\n",
        "  plt.plot(train_sizes, test_scores.mean(axis = 1), 'r-', marker='o', label='test')\n",
        "  plt.ylim((0.0, 1.05))\n",
        "  plt.legend(loc='lower right')\n",
        "\n",
        "plot_tree()"
      ],
      "execution_count": null,
      "outputs": [
        {
          "output_type": "display_data",
          "data": {
            "image/png": "[encoded data removed]",
            "text/plain": [
              "<Figure size 432x288 with 1 Axes>"
            ]
          },
          "metadata": {
            "tags": []
          }
        }
      ]
    },
    {
      "cell_type": "code",
      "metadata": {
        "id": "5nYAP3-e1C3u",
        "colab": {
          "base_uri": "https://localhost:8080/",
          "height": 301
        },
        "outputId": "2dbd1ea6-4601-49b6-cee7-65cf84656fb4"
      },
      "source": [
        "%%time\n",
        "train_sizes, train_scores, test_scores = model_selection.learning_curve(rf_classifier_depth_middle, bioresponce_data, bioresponce_target, \n",
        "                                                                       train_sizes=np.arange(0.1,1., 0.2), \n",
        "                                                                       cv=3, scoring='accuracy')\n",
        "\n",
        "\n",
        "plot_tree()"
      ],
      "execution_count": null,
      "outputs": [
        {
          "output_type": "stream",
          "text": [
            "CPU times: user 4.18 s, sys: 19.9 ms, total: 4.2 s\n",
            "Wall time: 4.23 s\n"
          ],
          "name": "stdout"
        },
        {
          "output_type": "display_data",
          "data": {
            "image/png": "[encoded data removed]",
            "text/plain": [
              "<Figure size 432x288 with 1 Axes>"
            ]
          },
          "metadata": {
            "tags": []
          }
        }
      ]
    },
    {
      "cell_type": "code",
      "metadata": {
        "id": "jAt5cwDj1qiH",
        "colab": {
          "base_uri": "https://localhost:8080/",
          "height": 301
        },
        "outputId": "817390dc-eda8-461f-a355-aea63c2ec097"
      },
      "source": [
        "%%time\n",
        "train_sizes, train_scores, test_scores = model_selection.learning_curve(rf_classifier_depth_high, bioresponce_data, bioresponce_target, \n",
        "                                                                       train_sizes=np.arange(0.1,1., 0.2), \n",
        "                                                                       cv=3, scoring='accuracy')\n",
        "plot_tree()"
      ],
      "execution_count": null,
      "outputs": [
        {
          "output_type": "stream",
          "text": [
            "CPU times: user 5.11 s, sys: 21.2 ms, total: 5.13 s\n",
            "Wall time: 5.15 s\n"
          ],
          "name": "stdout"
        },
        {
          "output_type": "display_data",
          "data": {
            "image/png": "[encoded data removed]",
            "text/plain": [
              "<Figure size 432x288 with 1 Axes>"
            ]
          },
          "metadata": {
            "tags": []
          }
        }
      ]
    },
    {
      "cell_type": "markdown",
      "metadata": {
        "id": "Cm97vt7jlzWv"
      },
      "source": [
        "## Зависимость точности от параметров\n",
        "\n",
        "Мы с вами смотрели как происходит процесс обучения, это важно для анализа модели. Допустим теперь мы с моделью определились и хотим изучать как параметры влияют на качество, model_selection.cross_val_score вам в помощь"
      ]
    },
    {
      "cell_type": "code",
      "metadata": {
        "id": "5TW7KyZolzWw",
        "colab": {
          "base_uri": "https://localhost:8080/",
          "height": 35
        },
        "outputId": "09e0579f-9caf-48c2-bc3d-9d8933e5a480"
      },
      "source": [
        "#Посмотрим как меняется качество от глубины деревьев\n",
        "n_trees = [1] + list(range(10, 100, 15))\n",
        "n_trees"
      ],
      "execution_count": null,
      "outputs": [
        {
          "output_type": "execute_result",
          "data": {
            "text/plain": [
              "[1, 10, 25, 40, 55, 70, 85]"
            ]
          },
          "metadata": {
            "tags": []
          },
          "execution_count": 17
        }
      ]
    },
    {
      "cell_type": "code",
      "metadata": {
        "id": "h79wk6Y-lzWy",
        "colab": {
          "base_uri": "https://localhost:8080/",
          "height": 54
        },
        "outputId": "4d50e2db-6fe4-4e24-9e27-59796c43d8f8"
      },
      "source": [
        "%%time\n",
        "scoring = []\n",
        "for n_tree in n_trees:\n",
        "    estimator = ensemble.RandomForestClassifier(n_estimators= n_tree, min_samples_split = 5, random_state=1)\n",
        "    score = model_selection.cross_val_score(estimator, bioresponce_data, bioresponce_target, scoring = 'accuracy', cv = 3)\n",
        "    scoring.append(score)\n",
        "scoring = np.asmatrix(scoring)"
      ],
      "execution_count": null,
      "outputs": [
        {
          "output_type": "stream",
          "text": [
            "CPU times: user 14 s, sys: 36.1 ms, total: 14 s\n",
            "Wall time: 14 s\n"
          ],
          "name": "stdout"
        }
      ]
    },
    {
      "cell_type": "code",
      "metadata": {
        "id": "xpiVy9f6lzW0",
        "colab": {
          "base_uri": "https://localhost:8080/",
          "height": 315
        },
        "outputId": "1ff5dad3-838d-45f2-fe12-b71d7b965d75"
      },
      "source": [
        "#Нарисуйте график\n",
        "plt.plot(n_trees, scoring.mean(axis = 1), marker='.', label='RandomForest')\n",
        "plt.grid(True)\n",
        "plt.xlabel('n_trees')\n",
        "plt.ylabel('score')\n",
        "plt.title('Accuracy score')\n",
        "plt.legend(loc='lower right')\n"
      ],
      "execution_count": null,
      "outputs": [
        {
          "output_type": "execute_result",
          "data": {
            "text/plain": [
              "<matplotlib.legend.Legend at 0x7fa22319de10>"
            ]
          },
          "metadata": {
            "tags": []
          },
          "execution_count": 19
        },
        {
          "output_type": "display_data",
          "data": {
            "image/png": "[encoded data removed]",
            "text/plain": [
              "<Figure size 432x288 with 1 Axes>"
            ]
          },
          "metadata": {
            "tags": []
          }
        }
      ]
    },
    {
      "cell_type": "code",
      "metadata": {
        "id": "-mfFe2pzlzW2",
        "colab": {
          "base_uri": "https://localhost:8080/",
          "height": 145
        },
        "outputId": "f2b01f01-df94-467e-ff8c-eea0d16fc3e0"
      },
      "source": [
        "rf = ensemble.RandomForestClassifier(n_estimators=85)\n",
        "rf.fit(bioresponce_data, bioresponce_target)"
      ],
      "execution_count": null,
      "outputs": [
        {
          "output_type": "execute_result",
          "data": {
            "text/plain": [
              "RandomForestClassifier(bootstrap=True, class_weight=None, criterion='gini',\n",
              "                       max_depth=None, max_features='auto', max_leaf_nodes=None,\n",
              "                       min_impurity_decrease=0.0, min_impurity_split=None,\n",
              "                       min_samples_leaf=1, min_samples_split=2,\n",
              "                       min_weight_fraction_leaf=0.0, n_estimators=85,\n",
              "                       n_jobs=None, oob_score=False, random_state=None,\n",
              "                       verbose=0, warm_start=False)"
            ]
          },
          "metadata": {
            "tags": []
          },
          "execution_count": 20
        }
      ]
    },
    {
      "cell_type": "markdown",
      "metadata": {
        "id": "3N4ygIxEoV_f"
      },
      "source": [
        "### Посмотрим заодно на важность признаков"
      ]
    },
    {
      "cell_type": "code",
      "metadata": {
        "id": "bXvwo-4blzW4"
      },
      "source": [
        "feat_import = pd.DataFrame(data = rf.feature_importances_, index = bioresponce_data.columns, columns=['Importance']).sort_values(by = 'Importance', ascending = False)"
      ],
      "execution_count": null,
      "outputs": []
    },
    {
      "cell_type": "code",
      "metadata": {
        "id": "42tWsSTwlzW6",
        "colab": {
          "base_uri": "https://localhost:8080/",
          "height": 300
        },
        "outputId": "cfe52bed-bdf2-48ca-aa9b-fbe6855c4129"
      },
      "source": [
        "feat_import.head(20).plot(kind='bar', logy=True)"
      ],
      "execution_count": null,
      "outputs": [
        {
          "output_type": "execute_result",
          "data": {
            "text/plain": [
              "<matplotlib.axes._subplots.AxesSubplot at 0x7fa223116a90>"
            ]
          },
          "metadata": {
            "tags": []
          },
          "execution_count": 22
        },
        {
          "output_type": "display_data",
          "data": {
            "image/png": "[encoded data removed]",
            "text/plain": [
              "<Figure size 432x288 with 1 Axes>"
            ]
          },
          "metadata": {
            "tags": []
          }
        }
      ]
    },
    {
      "cell_type": "markdown",
      "metadata": {
        "id": "h2fTDVDklzW8"
      },
      "source": [
        "## Попробуем  xgboost"
      ]
    },
    {
      "cell_type": "code",
      "metadata": {
        "id": "vBokrviYlzW9",
        "colab": {
          "base_uri": "https://localhost:8080/",
          "height": 54
        },
        "outputId": "26d3e438-daab-44a4-ecc6-77aa27d631eb"
      },
      "source": [
        "%%time\n",
        "xgb_scoring = []\n",
        "for n_tree in n_trees:\n",
        "    estimator = xgb.XGBClassifier(learning_rate=0.1, max_depth=5, n_estimators=n_tree, min_child_weight=3)\n",
        "    score = model_selection.cross_val_score(estimator, bioresponce_data, bioresponce_target, \n",
        "                                             scoring = 'accuracy', cv = 3)  \n",
        "    xgb_scoring.append(score)\n",
        "xgb_scoring = np.asmatrix(xgb_scoring)"
      ],
      "execution_count": null,
      "outputs": [
        {
          "output_type": "stream",
          "text": [
            "CPU times: user 2min 2s, sys: 182 ms, total: 2min 2s\n",
            "Wall time: 2min 3s\n"
          ],
          "name": "stdout"
        }
      ]
    },
    {
      "cell_type": "code",
      "metadata": {
        "id": "7nTagKPOlzW_",
        "colab": {
          "base_uri": "https://localhost:8080/",
          "height": 315
        },
        "outputId": "6391f5e6-1921-48f1-c8d4-660762d06dcb"
      },
      "source": [
        "#Нарисуем графики\n",
        "plt.plot(n_trees, scoring.mean(axis = 1), marker='.', label='RandomForest')\n",
        "plt.grid(True)\n",
        "plt.xlabel('n_trees')\n",
        "plt.ylabel('score')\n",
        "plt.plot(n_trees, xgb_scoring.mean(axis = 1), marker='.', label='XGBOOST')\n",
        "plt.title('Accuracy score')\n",
        "plt.legend(loc='lower right')"
      ],
      "execution_count": null,
      "outputs": [
        {
          "output_type": "execute_result",
          "data": {
            "text/plain": [
              "<matplotlib.legend.Legend at 0x7fa222f71780>"
            ]
          },
          "metadata": {
            "tags": []
          },
          "execution_count": 24
        },
        {
          "output_type": "display_data",
          "data": {
            "image/png": "[encoded data removed]",
            "text/plain": [
              "<Figure size 432x288 with 1 Axes>"
            ]
          },
          "metadata": {
            "tags": []
          }
        }
      ]
    },
    {
      "cell_type": "code",
      "metadata": {
        "id": "EToSKGuolzXB"
      },
      "source": [
        "# Обучите модель xgboost и посмотрите какие признаки важны"
      ],
      "execution_count": null,
      "outputs": []
    },
    {
      "cell_type": "code",
      "metadata": {
        "id": "H7OnfAdrlzXE",
        "colab": {
          "base_uri": "https://localhost:8080/",
          "height": 54
        },
        "outputId": "b628f491-997b-455c-87c9-c5fe955aff27"
      },
      "source": [
        "%%time\n",
        "# обучаем модель, посмотрите сами про модель \n",
        "xgb_bio = xgb.XGBClassifier(learning_rate=1, max_depth=5, n_estimators=55, min_child_weight=3, cv=5)\n",
        "xgb_bio.fit(bioresponce_data, bioresponce_target)"
      ],
      "execution_count": null,
      "outputs": [
        {
          "output_type": "stream",
          "text": [
            "CPU times: user 11.3 s, sys: 43.1 ms, total: 11.4 s\n",
            "Wall time: 11.4 s\n"
          ],
          "name": "stdout"
        }
      ]
    },
    {
      "cell_type": "markdown",
      "metadata": {
        "id": "BkxIWH7qovpp"
      },
      "source": [
        "\n",
        "### Посмотрим на важность признаков\n",
        "\n"
      ]
    },
    {
      "cell_type": "code",
      "metadata": {
        "id": "Hyb_M1xvlzXH",
        "colab": {
          "base_uri": "https://localhost:8080/",
          "height": 313
        },
        "outputId": "3e963472-acc2-4f59-ff51-bce567c6c82d"
      },
      "source": [
        "xgb.plot_importance(xgb_bio, max_num_features=20, height=0.8)\n"
      ],
      "execution_count": null,
      "outputs": [
        {
          "output_type": "execute_result",
          "data": {
            "text/plain": [
              "<matplotlib.axes._subplots.AxesSubplot at 0x7fa222eef748>"
            ]
          },
          "metadata": {
            "tags": []
          },
          "execution_count": 27
        },
        {
          "output_type": "display_data",
          "data": {
            "image/png": "[encoded data removed]",
            "text/plain": [
              "<Figure size 432x288 with 1 Axes>"
            ]
          },
          "metadata": {
            "tags": []
          }
        }
      ]
    },
    {
      "cell_type": "code",
      "metadata": {
        "id": "vve-pkDGa1Kp"
      },
      "source": [
        "from sklearn.model_selection import GridSearchCV\n",
        "from sklearn.model_selection import StratifiedKFold\n",
        "from sklearn.preprocessing import LabelEncoder\n",
        "from xgboost import XGBClassifier\n",
        "import matplotlib.pyplot as plt"
      ],
      "execution_count": null,
      "outputs": []
    },
    {
      "cell_type": "code",
      "metadata": {
        "id": "XnlCV8XZaQ_W",
        "colab": {
          "base_uri": "https://localhost:8080/",
          "height": 199
        },
        "outputId": "eb4705eb-2dde-4459-b36e-81955f8552ab"
      },
      "source": [
        "label_encoded_y = LabelEncoder().fit_transform(bioresponce_target)\n",
        "# grid search\n",
        "model = XGBClassifier()\n",
        "learning_rate = [0.0001, 0.001, 0.01, 0.1, 0.2, 0.3, 0.5, 0.7, 1]\n",
        "param_grid = dict(learning_rate=learning_rate)\n",
        "kfold = StratifiedKFold(n_splits=3, shuffle=True, random_state=7)\n",
        "grid_search = GridSearchCV(model, param_grid, scoring=\"neg_log_loss\", n_jobs=-1, cv=kfold)\n",
        "grid_result = grid_search.fit(bioresponce_data, label_encoded_y)\n",
        "# summarize results\n",
        "print(\"Best: %f using %s\" % (grid_result.best_score_, grid_result.best_params_))\n",
        "means = grid_result.cv_results_['mean_test_score']\n",
        "stds = grid_result.cv_results_['std_test_score']\n",
        "params = grid_result.cv_results_['params']\n",
        "for mean, stdev, param in zip(means, stds, params):\n",
        "\tprint(\"%f (%f) with: %r\" % (mean, stdev, param))\n",
        "\n"
      ],
      "execution_count": null,
      "outputs": [
        {
          "output_type": "stream",
          "text": [
            "Best: -0.462736 using {'learning_rate': 0.2}\n",
            "-0.690150 (0.000038) with: {'learning_rate': 0.0001}\n",
            "-0.665559 (0.000392) with: {'learning_rate': 0.001}\n",
            "-0.551550 (0.002866) with: {'learning_rate': 0.01}\n",
            "-0.471476 (0.005503) with: {'learning_rate': 0.1}\n",
            "-0.462736 (0.007591) with: {'learning_rate': 0.2}\n",
            "-0.476875 (0.005968) with: {'learning_rate': 0.3}\n",
            "-0.515198 (0.002292) with: {'learning_rate': 0.5}\n",
            "-0.568244 (0.017492) with: {'learning_rate': 0.7}\n",
            "-0.697023 (0.011624) with: {'learning_rate': 1}\n"
          ],
          "name": "stdout"
        }
      ]
    },
    {
      "cell_type": "code",
      "metadata": {
        "id": "0GNo5M-idAHq",
        "colab": {
          "base_uri": "https://localhost:8080/",
          "height": 313
        },
        "outputId": "e4b4958d-dc53-4af1-b5ae-ca57a2659461"
      },
      "source": [
        "plt.errorbar(learning_rate, means, yerr=stds)\n",
        "plt.title(\"XGBoost learning_rate vs Log Loss\")\n",
        "plt.xlabel('learning rate')\n",
        "plt.ylabel('Log Loss')"
      ],
      "execution_count": null,
      "outputs": [
        {
          "output_type": "execute_result",
          "data": {
            "text/plain": [
              "Text(0, 0.5, 'Log Loss')"
            ]
          },
          "metadata": {
            "tags": []
          },
          "execution_count": 30
        },
        {
          "output_type": "display_data",
          "data": {
            "image/png": "[encoded data removed]",
            "text/plain": [
              "<Figure size 432x288 with 1 Axes>"
            ]
          },
          "metadata": {
            "tags": []
          }
        }
      ]
    },
    {
      "cell_type": "code",
      "metadata": {
        "id": "mZebE1zQS6L-",
        "colab": {
          "base_uri": "https://localhost:8080/",
          "height": 313
        },
        "outputId": "8674debf-3688-4257-ea42-cad0c544dbff"
      },
      "source": [
        "xgb_bio = xgb.XGBClassifier(learning_rate=0.2, max_depth=5, n_estimators=55, min_child_weight=3, cv=3)\n",
        "xgb_bio.fit(bioresponce_data, bioresponce_target)\n",
        "xgb.plot_importance(xgb_bio, max_num_features=20, height=0.8)"
      ],
      "execution_count": null,
      "outputs": [
        {
          "output_type": "execute_result",
          "data": {
            "text/plain": [
              "<matplotlib.axes._subplots.AxesSubplot at 0x7fb36667be48>"
            ]
          },
          "metadata": {
            "tags": []
          },
          "execution_count": 16
        },
        {
          "output_type": "display_data",
          "data": {
            "image/png": "[encoded data removed]",
            "text/plain": [
              "<Figure size 432x288 with 1 Axes>"
            ]
          },
          "metadata": {
            "tags": []
          }
        }
      ]
    },
    {
      "cell_type": "markdown",
      "metadata": {
        "id": "HFrltcQ2lzXK"
      },
      "source": [
        "## Из популярных библиотек: lightgbm и catboost \n",
        "import lightgbm as lgb\n",
        "import catboost as cb\n"
      ]
    },
    {
      "cell_type": "code",
      "metadata": {
        "id": "zd-dnaFAlzXK"
      },
      "source": [
        "import lightgbm as lgb"
      ],
      "execution_count": null,
      "outputs": []
    },
    {
      "cell_type": "code",
      "metadata": {
        "id": "7g2DXogveutz",
        "colab": {
          "base_uri": "https://localhost:8080/",
          "height": 199
        },
        "outputId": "121c41cc-b76c-4ee9-d6e0-75ef37b85106"
      },
      "source": [
        "label_encoded_y = LabelEncoder().fit_transform(bioresponce_target)\n",
        "\n",
        "model = lgb.LGBMClassifier()\n",
        "learning_rate = [0.0001, 0.001, 0.01, 0.1, 0.2, 0.3, 0.5, 0.7, 1]\n",
        "param_grid = dict(learning_rate=learning_rate)\n",
        "kfold = StratifiedKFold(n_splits=3, shuffle=True, random_state=7)\n",
        "grid_search = GridSearchCV(model, param_grid, scoring=\"neg_log_loss\", n_jobs=-1, cv=kfold)\n",
        "grid_result = grid_search.fit(bioresponce_data, label_encoded_y)\n",
        "\n",
        "print(\"Best: %f using %s\" % (grid_result.best_score_, grid_result.best_params_))\n",
        "means = grid_result.cv_results_['mean_test_score']\n",
        "stds = grid_result.cv_results_['std_test_score']\n",
        "params = grid_result.cv_results_['params']\n",
        "for mean, stdev, param in zip(means, stds, params):\n",
        "\tprint(\"%f (%f) with: %r\" % (mean, stdev, param))\n",
        "\n"
      ],
      "execution_count": null,
      "outputs": [
        {
          "output_type": "stream",
          "text": [
            "Best: -0.454951 using {'learning_rate': 0.1}\n",
            "-0.686033 (0.000107) with: {'learning_rate': 0.0001}\n",
            "-0.657551 (0.000501) with: {'learning_rate': 0.001}\n",
            "-0.520021 (0.006045) with: {'learning_rate': 0.01}\n",
            "-0.454951 (0.008290) with: {'learning_rate': 0.1}\n",
            "-0.549005 (0.013499) with: {'learning_rate': 0.2}\n",
            "-0.684249 (0.033332) with: {'learning_rate': 0.3}\n",
            "-0.925695 (0.026558) with: {'learning_rate': 0.5}\n",
            "-1.231816 (0.032293) with: {'learning_rate': 0.7}\n",
            "-1.429720 (0.013965) with: {'learning_rate': 1}\n"
          ],
          "name": "stdout"
        }
      ]
    },
    {
      "cell_type": "code",
      "metadata": {
        "id": "1QnQxo9jffPq",
        "colab": {
          "base_uri": "https://localhost:8080/",
          "height": 315
        },
        "outputId": "82443e8a-37c8-4033-d6a1-e4c82227c9ce"
      },
      "source": [
        "plt.errorbar(learning_rate, means, yerr=stds)\n",
        "plt.title(\"LGBM learning_rate vs Log Loss\")\n",
        "plt.xlabel('learning_rate')\n",
        "plt.ylabel('Log Loss')"
      ],
      "execution_count": null,
      "outputs": [
        {
          "output_type": "execute_result",
          "data": {
            "text/plain": [
              "Text(0, 0.5, 'Log Loss')"
            ]
          },
          "metadata": {
            "tags": []
          },
          "execution_count": 34
        },
        {
          "output_type": "display_data",
          "data": {
            "image/png": "[encoded data removed]",
            "text/plain": [
              "<Figure size 432x288 with 1 Axes>"
            ]
          },
          "metadata": {
            "tags": []
          }
        }
      ]
    },
    {
      "cell_type": "code",
      "metadata": {
        "id": "ci8nsaefhVAD",
        "colab": {
          "base_uri": "https://localhost:8080/",
          "height": 836
        },
        "outputId": "db364a39-3dc0-4655-b260-55c99c76e0d6"
      },
      "source": [
        "#изменение признаков в зависимости от learning_rate\n",
        "def learning_r(x):\n",
        "  lgb_bio=lgb.LGBMClassifier(learning_rate=x, max_depth=5, n_estimators=55, min_child_weight=3)\n",
        "  lgb_bio.fit(bioresponce_data, bioresponce_target)\n",
        "  lgb_fit = pd.DataFrame(data = lgb_bio.feature_importances_, index = bioresponce_data.columns, columns=['Importance']).sort_values(by = 'Importance', ascending = False)\n",
        "  lgb_fit.head(20).plot(kind='bar', logy=True)\n",
        "\n",
        "print(learning_r(1), learning_r(0.1), learning_r(0.001))"
      ],
      "execution_count": null,
      "outputs": [
        {
          "output_type": "stream",
          "text": [
            "None None None\n"
          ],
          "name": "stdout"
        },
        {
          "output_type": "display_data",
          "data": {
            "image/png": "[encoded data removed]",
            "text/plain": [
              "<Figure size 432x288 with 1 Axes>"
            ]
          },
          "metadata": {
            "tags": []
          }
        },
        {
          "output_type": "display_data",
          "data": {
            "image/png": "[encoded data removed]",
            "text/plain": [
              "<Figure size 432x288 with 1 Axes>"
            ]
          },
          "metadata": {
            "tags": []
          }
        },
        {
          "output_type": "display_data",
          "data": {
            "image/png": "[encoded data removed]",
            "text/plain": [
              "<Figure size 432x288 with 1 Axes>"
            ]
          },
          "metadata": {
            "tags": []
          }
        }
      ]
    },
    {
      "cell_type": "code",
      "metadata": {
        "id": "EZ42R2mCpWDy",
        "colab": {
          "base_uri": "https://localhost:8080/",
          "height": 383
        },
        "outputId": "d455acb7-9043-4f96-8426-1e259905b22c"
      },
      "source": [
        "!pip install catboost"
      ],
      "execution_count": null,
      "outputs": [
        {
          "output_type": "stream",
          "text": [
            "Collecting catboost\n",
            "\u001b[?25l  Downloading https://files.pythonhosted.org/packages/3d/f6/733fe7cca5d0d882e1a708ad59da2510416cc2e4fa54e17c7a5082f67811/catboost-0.20.1-cp36-none-manylinux1_x86_64.whl (63.6MB)\n",
            "\u001b[K     |████████████████████████████████| 63.6MB 35kB/s \n",
            "\u001b[?25hRequirement already satisfied: numpy>=1.16.0 in /usr/local/lib/python3.6/dist-packages (from catboost) (1.17.4)\n",
            "Requirement already satisfied: six in /usr/local/lib/python3.6/dist-packages (from catboost) (1.12.0)\n",
            "Requirement already satisfied: pandas>=0.24.0 in /usr/local/lib/python3.6/dist-packages (from catboost) (0.25.3)\n",
            "Requirement already satisfied: plotly in /usr/local/lib/python3.6/dist-packages (from catboost) (4.1.1)\n",
            "Requirement already satisfied: matplotlib in /usr/local/lib/python3.6/dist-packages (from catboost) (3.1.2)\n",
            "Requirement already satisfied: scipy in /usr/local/lib/python3.6/dist-packages (from catboost) (1.3.3)\n",
            "Requirement already satisfied: graphviz in /usr/local/lib/python3.6/dist-packages (from catboost) (0.10.1)\n",
            "Requirement already satisfied: python-dateutil>=2.6.1 in /usr/local/lib/python3.6/dist-packages (from pandas>=0.24.0->catboost) (2.6.1)\n",
            "Requirement already satisfied: pytz>=2017.2 in /usr/local/lib/python3.6/dist-packages (from pandas>=0.24.0->catboost) (2018.9)\n",
            "Requirement already satisfied: retrying>=1.3.3 in /usr/local/lib/python3.6/dist-packages (from plotly->catboost) (1.3.3)\n",
            "Requirement already satisfied: cycler>=0.10 in /usr/local/lib/python3.6/dist-packages (from matplotlib->catboost) (0.10.0)\n",
            "Requirement already satisfied: kiwisolver>=1.0.1 in /usr/local/lib/python3.6/dist-packages (from matplotlib->catboost) (1.1.0)\n",
            "Requirement already satisfied: pyparsing!=2.0.4,!=2.1.2,!=2.1.6,>=2.0.1 in /usr/local/lib/python3.6/dist-packages (from matplotlib->catboost) (2.4.5)\n",
            "Requirement already satisfied: setuptools in /usr/local/lib/python3.6/dist-packages (from kiwisolver>=1.0.1->matplotlib->catboost) (42.0.2)\n",
            "Installing collected packages: catboost\n",
            "Successfully installed catboost-0.20.1\n"
          ],
          "name": "stdout"
        }
      ]
    },
    {
      "cell_type": "code",
      "metadata": {
        "id": "8lZ3mjG1o5vO"
      },
      "source": [
        "import catboost as cb"
      ],
      "execution_count": null,
      "outputs": []
    },
    {
      "cell_type": "code",
      "metadata": {
        "id": "vWFMh1v1o7tx",
        "colab": {
          "base_uri": "https://localhost:8080/",
          "height": 1000
        },
        "outputId": "320b3691-9223-4e9b-fc11-417e77ca2c0c"
      },
      "source": [
        "cb_bio = cb.CatBoostClassifier(learning_rate=0.1, max_depth=5, n_estimators= 55, task_type = 'CPU' )\n",
        "cb_bio.fit(bioresponce_data, bioresponce_target)\n"
      ],
      "execution_count": null,
      "outputs": [
        {
          "output_type": "stream",
          "text": [
            "0:\tlearn: 0.6670198\ttotal: 111ms\tremaining: 5.99s\n",
            "1:\tlearn: 0.6369677\ttotal: 169ms\tremaining: 4.48s\n",
            "2:\tlearn: 0.6133261\ttotal: 228ms\tremaining: 3.95s\n",
            "3:\tlearn: 0.5992271\ttotal: 286ms\tremaining: 3.65s\n",
            "4:\tlearn: 0.5834919\ttotal: 349ms\tremaining: 3.49s\n",
            "5:\tlearn: 0.5716144\ttotal: 407ms\tremaining: 3.32s\n",
            "6:\tlearn: 0.5603077\ttotal: 465ms\tremaining: 3.19s\n",
            "7:\tlearn: 0.5530908\ttotal: 523ms\tremaining: 3.07s\n",
            "8:\tlearn: 0.5448961\ttotal: 585ms\tremaining: 2.99s\n",
            "9:\tlearn: 0.5386109\ttotal: 644ms\tremaining: 2.9s\n",
            "10:\tlearn: 0.5324767\ttotal: 702ms\tremaining: 2.81s\n",
            "11:\tlearn: 0.5290053\ttotal: 759ms\tremaining: 2.72s\n",
            "12:\tlearn: 0.5256718\ttotal: 823ms\tremaining: 2.66s\n",
            "13:\tlearn: 0.5219205\ttotal: 881ms\tremaining: 2.58s\n",
            "14:\tlearn: 0.5186249\ttotal: 937ms\tremaining: 2.5s\n",
            "15:\tlearn: 0.5137105\ttotal: 991ms\tremaining: 2.42s\n",
            "16:\tlearn: 0.5101998\ttotal: 1.05s\tremaining: 2.35s\n",
            "17:\tlearn: 0.5068083\ttotal: 1.11s\tremaining: 2.28s\n",
            "18:\tlearn: 0.5040715\ttotal: 1.16s\tremaining: 2.2s\n",
            "19:\tlearn: 0.5009863\ttotal: 1.22s\tremaining: 2.13s\n",
            "20:\tlearn: 0.4987878\ttotal: 1.28s\tremaining: 2.07s\n",
            "21:\tlearn: 0.4964924\ttotal: 1.33s\tremaining: 2s\n",
            "22:\tlearn: 0.4948675\ttotal: 1.39s\tremaining: 1.93s\n",
            "23:\tlearn: 0.4927521\ttotal: 1.44s\tremaining: 1.86s\n",
            "24:\tlearn: 0.4909052\ttotal: 1.5s\tremaining: 1.8s\n",
            "25:\tlearn: 0.4895857\ttotal: 1.55s\tremaining: 1.73s\n",
            "26:\tlearn: 0.4878215\ttotal: 1.61s\tremaining: 1.67s\n",
            "27:\tlearn: 0.4852728\ttotal: 1.67s\tremaining: 1.61s\n",
            "28:\tlearn: 0.4832492\ttotal: 1.73s\tremaining: 1.55s\n",
            "29:\tlearn: 0.4825007\ttotal: 1.78s\tremaining: 1.48s\n",
            "30:\tlearn: 0.4796008\ttotal: 1.84s\tremaining: 1.42s\n",
            "31:\tlearn: 0.4778297\ttotal: 1.89s\tremaining: 1.36s\n",
            "32:\tlearn: 0.4767882\ttotal: 1.95s\tremaining: 1.3s\n",
            "33:\tlearn: 0.4745441\ttotal: 2.01s\tremaining: 1.24s\n",
            "34:\tlearn: 0.4732074\ttotal: 2.06s\tremaining: 1.18s\n",
            "35:\tlearn: 0.4717675\ttotal: 2.12s\tremaining: 1.12s\n",
            "36:\tlearn: 0.4708548\ttotal: 2.17s\tremaining: 1.06s\n",
            "37:\tlearn: 0.4694374\ttotal: 2.23s\tremaining: 996ms\n",
            "38:\tlearn: 0.4668057\ttotal: 2.29s\tremaining: 938ms\n",
            "39:\tlearn: 0.4659479\ttotal: 2.34s\tremaining: 878ms\n",
            "40:\tlearn: 0.4636868\ttotal: 2.4s\tremaining: 820ms\n",
            "41:\tlearn: 0.4624601\ttotal: 2.46s\tremaining: 760ms\n",
            "42:\tlearn: 0.4615884\ttotal: 2.51s\tremaining: 700ms\n",
            "43:\tlearn: 0.4603785\ttotal: 2.57s\tremaining: 642ms\n",
            "44:\tlearn: 0.4585401\ttotal: 2.63s\tremaining: 584ms\n",
            "45:\tlearn: 0.4580857\ttotal: 2.68s\tremaining: 524ms\n",
            "46:\tlearn: 0.4569125\ttotal: 2.73s\tremaining: 466ms\n",
            "47:\tlearn: 0.4553278\ttotal: 2.79s\tremaining: 408ms\n",
            "48:\tlearn: 0.4544609\ttotal: 2.86s\tremaining: 350ms\n",
            "49:\tlearn: 0.4530674\ttotal: 2.91s\tremaining: 291ms\n",
            "50:\tlearn: 0.4509125\ttotal: 2.98s\tremaining: 234ms\n",
            "51:\tlearn: 0.4490485\ttotal: 3.05s\tremaining: 176ms\n",
            "52:\tlearn: 0.4473011\ttotal: 3.11s\tremaining: 117ms\n",
            "53:\tlearn: 0.4454211\ttotal: 3.16s\tremaining: 58.6ms\n",
            "54:\tlearn: 0.4445679\ttotal: 3.22s\tremaining: 0us\n"
          ],
          "name": "stdout"
        },
        {
          "output_type": "execute_result",
          "data": {
            "text/plain": [
              "<catboost.core.CatBoostClassifier at 0x7fa2219b9358>"
            ]
          },
          "metadata": {
            "tags": []
          },
          "execution_count": 38
        }
      ]
    },
    {
      "cell_type": "code",
      "metadata": {
        "id": "Yc4aR1ukgk2f",
        "colab": {
          "base_uri": "https://localhost:8080/",
          "height": 306
        },
        "outputId": "ab80257a-2c27-428f-8350-e0ba5cc54b99"
      },
      "source": [
        "cb_fit = pd.DataFrame(data = cb_bio.feature_importances_, index = bioresponce_data.columns, columns=['Importance']).sort_values(by = 'Importance', ascending = False)\n",
        "cb_fit.head(20).plot(kind='bar', logy=True)"
      ],
      "execution_count": null,
      "outputs": [
        {
          "output_type": "execute_result",
          "data": {
            "text/plain": [
              "<matplotlib.axes._subplots.AxesSubplot at 0x7fa22207f828>"
            ]
          },
          "metadata": {
            "tags": []
          },
          "execution_count": 39
        },
        {
          "output_type": "display_data",
          "data": {
            "image/png": "[encoded data removed]",
            "text/plain": [
              "<Figure size 432x288 with 1 Axes>"
            ]
          },
          "metadata": {
            "tags": []
          }
        }
      ]
    },
    {
      "cell_type": "code",
      "metadata": {
        "id": "mAjH8C-uViw2"
      },
      "source": [
        "cb.CatBoostClassifier.plot_tree(cb_bio, tree_idx=3)\n"
      ],
      "execution_count": null,
      "outputs": []
    }
  ]
}